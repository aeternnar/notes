{
 "cells": [
  {
   "cell_type": "markdown",
   "id": "d3fc960d-67b9-4f90-8eee-d782bcd44f0a",
   "metadata": {},
   "source": [
    "# **Linux**"
   ]
  },
  {
   "cell_type": "markdown",
   "id": "08d56b11-04ba-4c6a-9398-e4290ba1ec30",
   "metadata": {},
   "source": [
    "### **База**"
   ]
  },
  {
   "cell_type": "code",
   "execution_count": null,
   "id": "9d021511-0fbd-4a13-84b6-63035ad11270",
   "metadata": {},
   "outputs": [],
   "source": [
    "pwd                             #рабочая директория, где я нахожусь\n",
    "\n",
    "cd /home/aeternnar/...          #перемещение по директориям\n",
    "\n",
    "ls /home/aeternnar/...          #просмотор папок и файлов внутри директории\n",
    "l /home/aeternnar/...           #то же, но указывет слеши у директорий\n",
    "\n",
    "ls --help                       #просмотр опций для команды\n",
    "ls -r -l                        #комбинации опций\n",
    "\n",
    "touch test.txt                  #создание файла конкретного расширения\n",
    "touch test.py\n",
    "\n",
    "vi test.txt                     #редактирование файла, wq для сохранения\n",
    "nano test.txt                   #редактирование существующего файла\n",
    "                   #если файла не существует, он будет создан\n",
    "\n",
    "mkdir test                      #создание директорий\n",
    "mkdir test1 test2\n",
    "mkdir test/new_folder\n",
    "\n",
    "clear                           #очистка терминала\n",
    "\n",
    "cp main.py test                 #копирование файла в другую директорию\n",
    "\n",
    "mv test/main.py test/new_folder #перемещение файла в другую директорию\n",
    "\n",
    "rm test/new_folder/text.txt     #удалить файл из директории\n",
    "rm test/*                       #удаление всех ФАЙЛОВ из директории\n",
    "rm test/*.txt                   #удалить все .txt файлы\n",
    "\n",
    "rm -rf test/new_folder          #удаление директории\n",
    "\n",
    "mv filename ~                   #перенести файл в домашнюю директорию\n",
    "\n",
    "cp ~/filename .                 #скопировать файл из домашней в текущую\n",
    "\n",
    "head filename                   #посмотреть первые 10 строк файла\n",
    "\n",
    "which python                    #найти местонахождение программы"
   ]
  },
  {
   "cell_type": "markdown",
   "id": "89051bfc-82a2-43be-a13e-bafea63075e7",
   "metadata": {},
   "source": [
    "### **Суперпользователь, права**"
   ]
  },
  {
   "cell_type": "code",
   "execution_count": null,
   "id": "e67a5dc2-0802-463f-90d0-92a69bbd24e5",
   "metadata": {},
   "outputs": [],
   "source": [
    "sudo touch file.txt                     #создание файла с правами администратора\n",
    "\n",
    "sudo su                                 #переход в режим администратора\n",
    "su aeternnar                            #переход на обычного пользователя\n",
    "\n",
    "ls -l                                   #детали файлов, режимы доступа\n",
    "\n",
    "sudo chown root:aeternnar file.txt      #изменение создателя файла\n",
    "sudo chmod 664                          #изменение прав доступа для суперюзера, группы, пользователя\n",
    "\n",
    "sudo chown -R aeternnar:aeternnar test2 #изменения владельца директории\n",
    "chmod -R 764 test2                      #изменение прав доступа к директории"
   ]
  },
  {
   "cell_type": "markdown",
   "id": "0dfd652c-3201-43b7-ae0a-fd9d9d84e4e6",
   "metadata": {},
   "source": [
    "### **Пакетный менеджер**"
   ]
  },
  {
   "cell_type": "code",
   "execution_count": null,
   "id": "f621f168-4ed3-45be-817a-8e0e1342558c",
   "metadata": {},
   "outputs": [],
   "source": [
    "sudo apt-get install vim             #установка приложения vim\n",
    "\n",
    "vim                                  #запуск приложения vim\n",
    "\n",
    "sudo apt-get remove vim              #удаление приложения vim\n",
    "\n",
    "apt-cache policy vim                 #установлена ли программа\n",
    "\n",
    "apt-cahce search bleufi              #поиск программ с похожим названием по репозиториям\n",
    "\n",
    "sudo apt-get upgrade                 #обновление всех установленных пакетов"
   ]
  },
  {
   "cell_type": "markdown",
   "id": "f904e919-30c9-4b3d-8d04-237d9efba7f6",
   "metadata": {},
   "source": [
    "### **Команды поиска**"
   ]
  },
  {
   "cell_type": "code",
   "execution_count": null,
   "id": "6596864f-3f00-4ac3-b291-0ff8f112f9c8",
   "metadata": {},
   "outputs": [],
   "source": [
    "find . -type f -name \"*.txt\"       #поиск файла в текущей директории по расширению\n",
    "find . -type f -name \"fil*.txt\"    #поиск файла в текущей директории по расширению,\n",
    "                                   #название которых начинается с \"fil\"\n",
    "\n",
    "find . -type f -iname \"main*.cpp\"  #название приводится к нижнему регистру и происходит поиск\n",
    "\n",
    "find . -type f -perm 0664          #поиск файлов по параметрам доступа\n",
    "\n",
    "find . -type f -size -10k          #поиск файлов, по объему меньших 10 Кб\n",
    "\n",
    "find . -type f -not -iname \"*.txt\" #поиск любых файлов с расширением,\n",
    "                  #отличным от .txt\n",
    "\n",
    "cat main.py                        #просмотр содержимого файла\n",
    "\n",
    "grep \"print\" main.py               #поиск текста внутри файла\n",
    "grep -n \"print\" main.py            #будет указан номер строки, где найден текст\n",
    "grep -i \"print\" main.py            #поиск текста без учета регистра\n",
    "\n",
    "find . -type f -iname \"*.cpp\" -exec grep -i -n \"ma*\" {} + #ищем файлы .cpp, после в них ищем\n",
    "                             #текст, начинающийся с \"ma\"\n",
    "\n",
    "sort file.txt                       #сортировка контента из файла ДЛЯ ВЫВОДА\n",
    "                             #!!файл не меняется!!\n",
    "                             \n",
    "sort file.txt > file_sorted.txt     #сортируем file и помещаем результат \n",
    "                    #в file_sorted\n",
    "                    \n",
    "sort -n test.txt                    #сортировка чисел\n",
    "sort -n -r test.txt                 #сортировка чисел в обратном порядке\n",
    "sort -n -r test.txt > new.txt       #сортировка чисел в обратном порядке\n",
    "                                    #и сохранение в файл"
   ]
  },
  {
   "cell_type": "markdown",
   "id": "94e75881-048c-4781-afc3-37e5d4763839",
   "metadata": {},
   "source": [
    "### **Работа с файлами**"
   ]
  },
  {
   "cell_type": "code",
   "execution_count": null,
   "id": "252faf6e-529b-4408-8b52-7fea7a97a854",
   "metadata": {},
   "outputs": [],
   "source": [
    "tree                   #просмотр содержимого папки и их иерархии\n",
    "\n",
    "tar cf folder.tar test #архивируем папку test и помещаем ее в архив folder.tar\n",
    "            #tar - сжатый формат, не уменьшающий вес содержимого\n",
    "tar tf folder.tar      #смотрим содержимое tar файла\n",
    "\n",
    "tar xf folder.tar      #разархивация tar файла\n",
    "tar xvf folder.tar     #разархивация и вывод извлеченных файлов в терминал\n",
    "\n",
    "xz folder.tar          #компрессия tar файла в формат xz, теперь весит меньше\n",
    "unxz folder.tar.xz     #разархивация xz файла\n",
    "\n",
    "gzip folder.tar        #архивация tar файла в gz формат\n",
    "gunzip folder.tar.gz   #разархивация\n",
    "\n",
    "bzip folder.tar        #архивация в bz2 формат (самая мощная компрессия)\n",
    "bunzip2 folder.tar.bz2 #разархивация \n",
    "\n",
    "zip -r folder.zip test #архивация обычной папки test в zip формат\n",
    "\n",
    "tar czf folder.gz test #создание из папки test архива gz сразу"
   ]
  },
  {
   "cell_type": "markdown",
   "id": "205f7990-2215-4373-8ead-f149a0bf2499",
   "metadata": {},
   "source": [
    "### **Работа с сетью**"
   ]
  },
  {
   "cell_type": "code",
   "execution_count": null,
   "id": "7a8dcf11-922e-49d6-9915-696ec0ac65ac",
   "metadata": {},
   "outputs": [],
   "source": [
    "ping www.google.com           #проверка работоспособности сайта\n",
    "\n",
    "ping -c 10 itproger.com       #проверка работоспособности десятью запросами\n",
    "\n",
    "host google.com               #проверка ip-адреса\n",
    "\n",
    "netstat                       #просмотр соединений, функционирующих на компьютере\n",
    "\n",
    "ifconfig                      #информация о сети компьютера\n",
    "route                         #информация о роутерах\n",
    "\n",
    "sudo ufw allow 22             #открытие порта 22\n",
    "\n",
    "ssh itproger                  #информация о сервере\n",
    "\n",
    "w                             #информация о всех пользователях сервера"
   ]
  },
  {
   "cell_type": "markdown",
   "id": "95f5dd10-0dd5-4374-8906-c71e9574fc1e",
   "metadata": {},
   "source": [
    "### **Система**"
   ]
  },
  {
   "cell_type": "code",
   "execution_count": null,
   "id": "e2fce84e-36bf-4520-b0b6-12fc1efef8a2",
   "metadata": {},
   "outputs": [],
   "source": [
    "su\n",
    "sudo visudo\n",
    "aeternnar    ALL=(ALL:ALL) ALL #добавить строчку в конец файла\n",
    "\n",
    "sudo apt update && sudo apt upgrade -y\n",
    "sudo apt-get update\n",
    "sudo apt-get install gnome-shell\n",
    "sudo apt-get install gnome-tweaks\n",
    "\n",
    "# https://extensions.gnome.org/extension/307/dash-to-dock/ <- dock-to-dash\n",
    "\n",
    "# https://www.anaconda.com/download/success <- anaconda\n",
    "\n",
    "sudo apt install linux-headers-$(uname -r) build-essential\n",
    "sudo nano /etc/apt/sources.list #Добавьте `contrib` и `non-free` к вашим репозиториям в конце\n",
    "sudo apt update\n",
    "sudo apt install nvidia-driver\n",
    "sudo reboot\n",
    "nvidia-smi #тут смотрим версию CUDA и устанавливаем PyTorch с версией не моложе указанной\n",
    "\n",
    "conda create --name myenv numpy pandas matplotlib seaborn scikit-learn scipy jupyter notebook\n",
    "conda activate myenv\n",
    "conda install pytorch torchvision torchaudio pytorch-cuda=12.1 -c pytorch -c nvidia\n",
    "\n",
    "conda install ipykernel\n",
    "python -m ipykernel install --user --name=myenv --display-name \"Python (myenv)\" #потом выбрать kernel(myenv)\n",
    "\n",
    "apt install git\n",
    "ssh-keygen -t rsa -b 4096 -C \"aeternnar@gmail.com\"\n",
    "eval \"$(ssh-agent -s)\"\n",
    "ssh-add /home/aeternnar/.ssh/id_rsa\n",
    "cat /home/aeternnar/.ssh/id_rsa.pub #копирование SSH, после добавляем скопированное в SSH-ключи на GitHub\n",
    "ssh -T git@github.com #проверка установленной связи\n",
    "\n",
    "git config --global user.email \"aeternnar@gmail.com\"\n",
    "git config --global user.name \"aeternnar\"\n",
    "\n",
    "git clone git@github.com:aeternnar/notes.git\n",
    "cd notes\n",
    "git status\n",
    "\n",
    "sudo apt install telegram-desktop\n",
    "\n",
    "curl -sS https://download.spotify.com/debian/pubkey_6224F9941A8AA6D1.gpg | sudo gpg --dearmor --yes -o /etc/apt/trusted.gpg.d/spotify.gpg\n",
    "echo \"deb http://repository.spotify.com stable non-free\" | sudo tee /etc/apt/sources.list.d/spotify.list\n",
    "sudo apt-get update && sudo apt-get install spotify-client"
   ]
  }
 ],
 "metadata": {
  "kernelspec": {
   "display_name": "Python 3 (ipykernel)",
   "language": "python",
   "name": "python3"
  },
  "language_info": {
   "codemirror_mode": {
    "name": "ipython",
    "version": 3
   },
   "file_extension": ".py",
   "mimetype": "text/x-python",
   "name": "python",
   "nbconvert_exporter": "python",
   "pygments_lexer": "ipython3",
   "version": "3.12.7"
  }
 },
 "nbformat": 4,
 "nbformat_minor": 5
}
