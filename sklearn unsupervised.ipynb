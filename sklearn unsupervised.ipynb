{
 "cells": [
  {
   "cell_type": "markdown",
   "id": "50d644b4-3e5b-48c2-bd01-57e120ec7817",
   "metadata": {},
   "source": [
    "# **Sklearn unsupervised**"
   ]
  },
  {
   "cell_type": "code",
   "execution_count": null,
   "id": "c42c307e-6d23-4f7d-8010-3b94b50d1c01",
   "metadata": {},
   "outputs": [],
   "source": []
  }
 ],
 "metadata": {
  "kernelspec": {
   "display_name": "Python 3 (ipykernel)",
   "language": "python",
   "name": "python3"
  },
  "language_info": {
   "codemirror_mode": {
    "name": "ipython",
    "version": 3
   },
   "file_extension": ".py",
   "mimetype": "text/x-python",
   "name": "python",
   "nbconvert_exporter": "python",
   "pygments_lexer": "ipython3",
   "version": "3.12.4"
  }
 },
 "nbformat": 4,
 "nbformat_minor": 5
}
