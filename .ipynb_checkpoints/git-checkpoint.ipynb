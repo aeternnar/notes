{
 "cells": [
  {
   "cell_type": "markdown",
   "id": "985f9512-d7d4-41bf-a876-92f89b690cd6",
   "metadata": {},
   "source": [
    "# **Git**"
   ]
  },
  {
   "cell_type": "markdown",
   "id": "3e4eb3c0-8e99-4cf3-876d-de1426367a40",
   "metadata": {},
   "source": [
    "### **Инициализация репозитория:**"
   ]
  },
  {
   "cell_type": "code",
   "execution_count": null,
   "id": "67f720c0-7195-443c-bde6-ae8c930251ed",
   "metadata": {},
   "outputs": [],
   "source": [
    "cd /путь/к/каталогу/проекта\n",
    "git init\n",
    "git add .\n",
    "git remote add origin <url_удалённого_репозитория>"
   ]
  },
  {
   "cell_type": "markdown",
   "id": "43c6bb87-6e5f-456d-b410-b0205623590b",
   "metadata": {},
   "source": [
    "### **Клонирование репозитория::**"
   ]
  },
  {
   "cell_type": "code",
   "execution_count": null,
   "id": "e2c96acb-0b47-45ad-90eb-6f90ced8a5be",
   "metadata": {},
   "outputs": [],
   "source": [
    "cd /путь/к/каталогу/проекта\n",
    "git clone <https://github.com/пользователь/репозиторий.git>"
   ]
  },
  {
   "cell_type": "markdown",
   "id": "99bc3e1c-7721-4560-a105-2bf34fb408cc",
   "metadata": {},
   "source": [
    "### **Выгрузить с локалки на сервер:**"
   ]
  },
  {
   "cell_type": "code",
   "execution_count": null,
   "id": "1e419a7d-67a3-4146-b0ff-9e7550824e27",
   "metadata": {},
   "outputs": [],
   "source": [
    "git status\n",
    "git add .\n",
    "git commit -m \"комментарий\"\n",
    "git push\n",
    "\n",
    "ssh-add ~/learning/python/blog_cbv/mykey"
   ]
  },
  {
   "cell_type": "markdown",
   "id": "5e019ec9-93fc-4794-b639-2eab63ce67db",
   "metadata": {},
   "source": [
    "### **Загрузить с сервера на локалку:**"
   ]
  },
  {
   "cell_type": "code",
   "execution_count": null,
   "id": "b677004f-b586-42f3-944d-02bd560bb7fb",
   "metadata": {},
   "outputs": [],
   "source": [
    "git fetch\n",
    "git diff <branch1>..<branch2>\n",
    "#git diff <commit1> <commit2>\n",
    "git pull"
   ]
  },
  {
   "cell_type": "markdown",
   "id": "92d5f5dd-a8d8-482b-9e4f-8e636e3bd9ee",
   "metadata": {},
   "source": [
    "### **Создание ветки и переключение на нее**"
   ]
  },
  {
   "cell_type": "markdown",
   "id": "997db495-9283-4b86-a485-3a1331e3dd9c",
   "metadata": {},
   "source": [
    "Если в двух ветках копии некоторого файла различаются, то будет ошибка переключения веток, если файлы одинаковы — изменения сохраняются"
   ]
  },
  {
   "cell_type": "code",
   "execution_count": null,
   "id": "5f13a84d-5a70-497b-9e5d-fbaefad66b3e",
   "metadata": {},
   "outputs": [],
   "source": [
    "git branch bugFix\n",
    "git checkout bugFix\n",
    "git checkout 1913 #переход на конкретный коммит по идентификатору\n",
    "\n",
    "#или одной строчкой\n",
    "git checkout -b <название_ветки>"
   ]
  },
  {
   "cell_type": "markdown",
   "id": "6dfb5000-3582-47a6-bec5-fd35180fc92b",
   "metadata": {},
   "source": [
    "Если из-за незакоммиченных изменений в bugFix checkout не дает переключится на другую master, а эти изменения не важны, то можно переключиться через силу:"
   ]
  },
  {
   "cell_type": "code",
   "execution_count": null,
   "id": "b73539b6-e065-4f5b-8a28-341f691670d0",
   "metadata": {},
   "outputs": [],
   "source": [
    "git branch -f master"
   ]
  },
  {
   "cell_type": "markdown",
   "id": "f27caee6-40b4-4c76-975c-7247d2612841",
   "metadata": {},
   "source": [
    "Если изменения нужны:"
   ]
  },
  {
   "cell_type": "code",
   "execution_count": null,
   "id": "ddfb6e05-3ec4-4b4f-8a7b-fc4bd200da8e",
   "metadata": {},
   "outputs": [],
   "source": [
    "git stash #удаление и архивация изменений\n",
    "git stash pop #возвращение изменений"
   ]
  },
  {
   "cell_type": "markdown",
   "id": "a66a4314-06b0-4a67-b8ac-e292a315bf4f",
   "metadata": {},
   "source": [
    "### **Слияние веток / Перенос ветки в другую:**"
   ]
  },
  {
   "cell_type": "markdown",
   "id": "dcc3e920-6a84-4821-8e9f-4b32035311b3",
   "metadata": {},
   "source": [
    "##### **Git Rebase:**"
   ]
  },
  {
   "cell_type": "markdown",
   "id": "6274838a-a959-48c5-ba66-6bebc9f7bd38",
   "metadata": {},
   "source": [
    "1. Перемещает коммиты из одной ветки в другую.\n",
    "2. Позволяет создать линейную историю коммитов, что облегчает чтение и понимание истории проекта.\n",
    "3. Часто используется для обновления текущей ветки с изменениями из другой ветки или для объединения нескольких коммитов в один."
   ]
  },
  {
   "cell_type": "code",
   "execution_count": null,
   "id": "cd01db97-f608-4cbf-9566-65b478a57d70",
   "metadata": {},
   "outputs": [],
   "source": [
    "git rebase <branch_name>"
   ]
  },
  {
   "cell_type": "markdown",
   "id": "ab4f5ece-5258-42ff-b600-1cf028418bef",
   "metadata": {},
   "source": [
    "##### **Git Merge:**"
   ]
  },
  {
   "cell_type": "markdown",
   "id": "fc168b0f-a2c4-4cdb-a9b0-5a100e0d0539",
   "metadata": {},
   "source": [
    "1. Создает новый коммит, который объединяет изменения из другой ветки в текущую.\n",
    "2. Сохраняет историю коммитов каждой ветки, что может привести к более сложной истории коммитов\n",
    "3. Часто используется для объединения веток разработки, фиксации завершенной работы и внесения изменений из одной ветки в другую без изменения истории коммитов.\n",
    "4. Переключение на целевую ветку: Перед выполнением слияния нужно переключиться на ту ветку, в которую вы хотите внести изменения. Например, если вы хотите объединить изменения из ветки feature в ветку main, сначала нужно переключиться на main"
   ]
  },
  {
   "cell_type": "code",
   "execution_count": null,
   "id": "d3145ed2-9746-4095-ab2f-5464719fddf0",
   "metadata": {},
   "outputs": [],
   "source": [
    "git checkout master\n",
    "git merge <branch_name>\n",
    "\n",
    "git branch -f master ORIG_HEAD #откатить мёрдж и вернуть мастер"
   ]
  },
  {
   "cell_type": "markdown",
   "id": "1f28c8ce-d34c-4952-9b5a-9ae907d1eca3",
   "metadata": {},
   "source": [
    "### **Удаление ветки**"
   ]
  },
  {
   "cell_type": "code",
   "execution_count": null,
   "id": "1aca4695-7d6a-4a30-8b77-0470f3134c41",
   "metadata": {},
   "outputs": [],
   "source": [
    "git branch -d <название_ветки>\n",
    "git branch -D <название_ветки> #насильно для неслитых веток"
   ]
  },
  {
   "cell_type": "markdown",
   "id": "e4d01442-c460-4f6b-b5f9-a0e1484e8931",
   "metadata": {},
   "source": [
    "### **Вернуться к последней версии текущего коммита**"
   ]
  },
  {
   "cell_type": "markdown",
   "id": "3f01f9ec-7743-454e-acd6-2f6b33018aaf",
   "metadata": {},
   "source": [
    "В случае, если хочу откатить последние несохраненные изменения"
   ]
  },
  {
   "cell_type": "code",
   "execution_count": null,
   "id": "a6a9c8ac-d4b1-4349-bbc6-830821d59e3e",
   "metadata": {},
   "outputs": [],
   "source": [
    "git checkout -f"
   ]
  },
  {
   "cell_type": "markdown",
   "id": "9e51d906-716a-4151-a4a9-9d8c1723c71d",
   "metadata": {},
   "source": [
    "### **Если хотим откатить изменения с master**"
   ]
  },
  {
   "cell_type": "markdown",
   "id": "ff3b2e27-e1dc-493f-a54b-02bc2364ce91",
   "metadata": {},
   "source": [
    "И сохранить их в другой ветке"
   ]
  },
  {
   "cell_type": "code",
   "execution_count": null,
   "id": "6400c58d-8e09-4155-80eb-08a2d92bba8a",
   "metadata": {},
   "outputs": [],
   "source": []
  },
  {
   "cell_type": "markdown",
   "id": "861ae757-76e2-4082-88b2-bf200301f45d",
   "metadata": {},
   "source": [
    "### **Инициализация репозитория:**"
   ]
  },
  {
   "cell_type": "code",
   "execution_count": null,
   "id": "8ae10b11-63dc-4ba5-9a80-c61d7b6201b2",
   "metadata": {},
   "outputs": [],
   "source": []
  },
  {
   "cell_type": "markdown",
   "id": "16450c85-1d8f-4e83-884b-708a6c415086",
   "metadata": {},
   "source": [
    "### **Инициализация репозитория:**"
   ]
  },
  {
   "cell_type": "markdown",
   "id": "2c40ea6e-843e-4355-bcb1-40e13a8a0c2d",
   "metadata": {},
   "source": [
    "### **Инициализация репозитория:**"
   ]
  },
  {
   "cell_type": "markdown",
   "id": "7ce658e5-5d79-4dc3-b85e-6e8fb5716eea",
   "metadata": {},
   "source": [
    "### **Инициализация репозитория:**"
   ]
  },
  {
   "cell_type": "markdown",
   "id": "5325564b-3f20-4026-bca4-af3f8f814419",
   "metadata": {},
   "source": [
    "### **Инициализация репозитория:**"
   ]
  }
 ],
 "metadata": {
  "kernelspec": {
   "display_name": "Python 3 (ipykernel)",
   "language": "python",
   "name": "python3"
  },
  "language_info": {
   "codemirror_mode": {
    "name": "ipython",
    "version": 3
   },
   "file_extension": ".py",
   "mimetype": "text/x-python",
   "name": "python",
   "nbconvert_exporter": "python",
   "pygments_lexer": "ipython3",
   "version": "3.12.4"
  }
 },
 "nbformat": 4,
 "nbformat_minor": 5
}
