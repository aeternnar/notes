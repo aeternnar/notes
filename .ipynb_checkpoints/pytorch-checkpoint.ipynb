{
 "cells": [
  {
   "cell_type": "markdown",
   "id": "aa2196d8-9999-4caa-b0f2-90def5e5829a",
   "metadata": {},
   "source": [
    "## **PyTorch**"
   ]
  },
  {
   "cell_type": "code",
   "execution_count": null,
   "id": "736b0919-5b3b-41e6-98c9-54456a4715e4",
   "metadata": {},
   "outputs": [],
   "source": [
    "conda create --name myenv\n",
    "conda activate myenv\n",
    "conda install jupiter\n",
    "conda install notebook\n",
    "\n",
    "# https://pytorch.org/get-started/locally/ <- CUDA\n",
    "\n",
    "conda install pytorch torchvision torchaudio pytorch-cuda=12.1 -c pytorch -c nvidia\n",
    "\n",
    "import sys\n",
    "print(sys.executable)\n",
    "\n",
    "import torch\n",
    "print(torch.__version__)\n",
    "print(torch.cuda.is_available())\n",
    "print(torch.cuda.current_device())\n",
    "print(torch.cuda.device_count())\n",
    "print(torch.cuda.get_device_name(0))"
   ]
  },
  {
   "cell_type": "markdown",
   "id": "6f2872c0-1ccb-4126-838f-5f741d9be0be",
   "metadata": {},
   "source": [
    "### **Тензоры**"
   ]
  },
  {
   "cell_type": "code",
   "execution_count": null,
   "id": "61d2944e-c28c-439d-8080-1cc9f61e077b",
   "metadata": {},
   "outputs": [],
   "source": [
    "t = torch.empty(3, 5, 2, dtype=torch.int32) #создание тензора из случайных чисел\n",
    "t = torch.tensor([[1, 2, 3], [4, 5, 6]]) #создание тензора на основе списка\n",
    "t = torch.tensor(arr, dtype=torch.float32, requires_grad=True) #создание тензора с передачей ранее созданного списка\n",
    "t = torch.from_numpy(nympy_arr) #создание тензора на основе numpy массива\n",
    "                                #при изменении массива numpy тензор torch изменяется!\n",
    "\n",
    "t = torch.tensor([[2, 3], [4, 5]], device=torch.device('cuda:0')) #разместить тензор на GPU\n",
    "t = t.cpu()     #перевод тензора с GPU на CPU\n",
    "t = t.to('cpu') #\n",
    "\n",
    "t = t.cuda()     #перевод тензора с CPU на GPU\n",
    "t = t.to('cuda') #\n",
    "\n",
    "t.device #проверить, где лежит тензор: на CPU или GPU\n",
    "\n",
    "t[0, 0].item() #получить значение из тензора\n",
    "               #t[0, 0] без item() вернет tensor(228.)\n",
    "               #t[0, 0].item() вернет 228.0\n",
    "\n",
    "t = torch.zeros(2, 3, dtype=torch.int32)  #тензор из нулей\n",
    "t = torch.zeros_like(tensor)  #тензор из нулей той же размерности, что и tensor\n",
    "\n",
    "t = torch.ones(2, 3, dtype=torch.int32)  #тензор из единиц\n",
    "t = torch.eye(2, 3, dtype=torch.int32)  #единичная матрица\n",
    "t = torch.full((2, 4), 5, dtype=torch.int32)  #тензор 2x4, заполненный пятерками\n",
    "t = torch.full_like(tensor, 88)  #тензор из чисел 88той же размерности, что и tensor\n",
    "\n",
    "a = torch.arange(7) #диапазон чисел от 0 до 6\n",
    "a = torch.arange(5, 50, 10) #числа от 5 до 50 с шагом 10\n",
    "a = torch.linspace(1, 10, 100) #100 точек между 1 и 10\n",
    "\n",
    "t = torch.diag(torch.tensor([5, 4, 3])) #создает диагональную матрицу 3х3 из переданных элементов\n",
    "t = torch.tril(torch.tensor([[5, 4, 3], [1, 2, 2], [1, 2, 2]])) #нижнетреугольная матрица из переданной\n",
    "t = torch.triu(torch.tensor([[5, 4, 3], [1, 2, 2], [1, 2, 2]])) #верхнетреугольная матрица из переданной\n",
    "\n",
    "\n",
    "r = torch.rand(2, 3) #тензор, заполненный случайными значениями из (0, 1)\n",
    "r = torch.randn(2, 3) #тензор из нормального распределения чисел со средним 0 и ст. отклонением 1\n",
    "\n",
    "torch.manual_seed(54) #воспроизводимость случайных чисел\n",
    "\n",
    "d = t.reshape(27)      #\n",
    "d = t.reshape(3, 9)    #изменение размерности тензора\n",
    "d = t.reshape(3, 3, 3) #\n",
    "\n",
    "d = t.view(27)      #\n",
    "d = t.view(3, 9)    #изменение размерности тензора\n",
    "d = t.view(3, 3, 3) #\n",
    "\n",
    "r = t.resize_(2, 2) #выбрать часть тензора\n",
    "\n",
    "v = t.ravel() #вытянуть тензор в вектор\n",
    "\n",
    "t.permute(1, 0) #поменять оси 1 и 0 местами (транспонирование)\n",
    "t.mT            #аналогично\n",
    "\n",
    "torch.unsqeeze(t, dim=0) #добавление одноэлементной оси на первое место\n",
    "t.unsqeeze(0)            #\n",
    "t.unsqeeze(-1) #добавление одноэлементной оси на последнее место\n",
    "\n",
    "torch.unsqeeze(t) #удаление одноэлементных осей\n",
    "t.squeeze()       #\n",
    "t.squeeze(dim=3)  #если третья ось одноэлементна, то она удалится\n",
    "\n",
    "torch.unsqeeze(x, ) #добавление оси\n",
    "\n",
    "m = t.mean(dim=1, keepdim=True) #вычисляем среднее по строкам, \n",
    "                                #keepdim оставляет ту ось, по которой было усреднение\n",
    "\n",
    "tensor_half = tensor.half()      #torch.float16     #\n",
    "tensor_float = tensor.float()    #torch.float32     #\n",
    "tensor_double = tensor.double()  #torch.float64     #\n",
    "tensor_short = tensor.short()    #torch.int16       #преобразование типов\n",
    "tensor_int = tensor.int()        #torch.int32       #\n",
    "tensor_long = tensor.long()      #torch.int64       #\n",
    "tensor_char = tensor.char()      #torch.int8        #\n",
    "tensor_byte = tensor.byte()      #torch.uint8       #\n",
    "tensor_bool = tensor.bool()      #torch.bool        #"
   ]
  },
  {
   "cell_type": "markdown",
   "id": "0275bcbc-cf58-4f9d-9ff4-68a7381ce1f2",
   "metadata": {},
   "source": [
    "**In-place (mutable)** методы изменяют текущий тензор."
   ]
  },
  {
   "cell_type": "code",
   "execution_count": null,
   "id": "53370fce-c769-4d36-ad2f-9c31e61d1496",
   "metadata": {},
   "outputs": [],
   "source": [
    "t.add_(5)\n",
    "t.mul_(2)\n",
    "t.zero_()\n",
    "t.fill_(-0.8)\n",
    "t.random_(1, 7) \n",
    "t.uniform_(0, 1)\n",
    "t.normal_(0, 1)"
   ]
  },
  {
   "cell_type": "markdown",
   "id": "09dada73-0cc5-4ad1-88e0-e45598959f46",
   "metadata": {},
   "source": [
    "**Immutable методы:** Эти методы не изменяют текущий тензор, а создают новый."
   ]
  },
  {
   "cell_type": "code",
   "execution_count": null,
   "id": "08b484fe-5335-4ad7-b2ae-de4c6c974724",
   "metadata": {},
   "outputs": [],
   "source": [
    "t.add(5)\n",
    "t.mul(2)\n",
    "t.zero()\n",
    "t.fill(-0.8)\n",
    "t.random(1, 7) \n",
    "t.uniform(0, 1)\n",
    "t.normal(0, 1)"
   ]
  }
 ],
 "metadata": {
  "kernelspec": {
   "display_name": "Python 3 (ipykernel)",
   "language": "python",
   "name": "python3"
  },
  "language_info": {
   "codemirror_mode": {
    "name": "ipython",
    "version": 3
   },
   "file_extension": ".py",
   "mimetype": "text/x-python",
   "name": "python",
   "nbconvert_exporter": "python",
   "pygments_lexer": "ipython3",
   "version": "3.12.7"
  }
 },
 "nbformat": 4,
 "nbformat_minor": 5
}
