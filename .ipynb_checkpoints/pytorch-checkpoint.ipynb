{
 "cells": [
  {
   "cell_type": "markdown",
   "id": "aa2196d8-9999-4caa-b0f2-90def5e5829a",
   "metadata": {},
   "source": [
    "## **PyTorch**"
   ]
  },
  {
   "cell_type": "code",
   "execution_count": null,
   "id": "736b0919-5b3b-41e6-98c9-54456a4715e4",
   "metadata": {},
   "outputs": [],
   "source": [
    "conda create --name myenv\n",
    "conda activate myenv\n",
    "conda install jupiter\n",
    "conda install notebook\n",
    "\n",
    "conda install pytorch torchvision torchaudio pytorch-cuda=12.4 -c pytorch -c nvidia\n",
    "\n",
    "import sys\n",
    "print(sys.executable)"
   ]
  },
  {
   "cell_type": "code",
   "execution_count": 2,
   "id": "b35f3a17-f69a-42d1-9484-2eb7de8e4ebf",
   "metadata": {},
   "outputs": [],
   "source": [
    "import torch"
   ]
  },
  {
   "cell_type": "markdown",
   "id": "6f2872c0-1ccb-4126-838f-5f741d9be0be",
   "metadata": {},
   "source": [
    "### **Тензоры**"
   ]
  },
  {
   "cell_type": "code",
   "execution_count": null,
   "id": "61d2944e-c28c-439d-8080-1cc9f61e077b",
   "metadata": {},
   "outputs": [],
   "source": [
    "t = torch.empty(3, 5, 2, dtype=torch.int32) #создание тензора из случайных чисел\n",
    "t = torch.tensor([[1, 2, 3], [4, 5, 6]]) #создание тензора на основе списка\n",
    "t = torch.tensor(arr, dtype=torch.float32) #создание тензора с передачей ранее созданного списка\n",
    "t = torch.from_numpy(nympy_arr) #создание тензора на основе numpy массива\n",
    "                                #при изменении массива numpy тензор torch изменяется!\n",
    "\n",
    "tensor_half = tensor.half()      #torch.float16     #\n",
    "tensor_float = tensor.float()    #torch.float32     #\n",
    "tensor_double = tensor.double()  #torch.float64     #\n",
    "tensor_short = tensor.short()    #torch.int16       #преобразование типов\n",
    "tensor_int = tensor.int()        #torch.int32       #\n",
    "tensor_long = tensor.long()      #torch.int64       #\n",
    "tensor_char = tensor.char()      #torch.int8        #\n",
    "tensor_byte = tensor.byte()      #torch.uint8       #\n",
    "tensor_bool = tensor.bool()      #torch.bool        #"
   ]
  }
 ],
 "metadata": {
  "kernelspec": {
   "display_name": "Python 3 (ipykernel)",
   "language": "python",
   "name": "python3"
  },
  "language_info": {
   "codemirror_mode": {
    "name": "ipython",
    "version": 3
   },
   "file_extension": ".py",
   "mimetype": "text/x-python",
   "name": "python",
   "nbconvert_exporter": "python",
   "pygments_lexer": "ipython3",
   "version": "3.12.7"
  }
 },
 "nbformat": 4,
 "nbformat_minor": 5
}
