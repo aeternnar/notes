{
 "cells": [
  {
   "cell_type": "markdown",
   "id": "aa2196d8-9999-4caa-b0f2-90def5e5829a",
   "metadata": {},
   "source": [
    "# **PyTorch**"
   ]
  },
  {
   "cell_type": "code",
   "execution_count": null,
   "id": "736b0919-5b3b-41e6-98c9-54456a4715e4",
   "metadata": {},
   "outputs": [],
   "source": [
    "conda create --name myenv\n",
    "conda activate myenv\n",
    "conda install jupiter\n",
    "conda install notebook\n",
    "\n",
    "# https://pytorch.org/get-started/locally/ <- CUDA\n",
    "\n",
    "conda install pytorch torchvision torchaudio pytorch-cuda=12.1 -c pytorch -c nvidia\n",
    "\n",
    "import sys\n",
    "print(sys.executable)\n",
    "\n",
    "import torch\n",
    "print(torch.__version__)\n",
    "print(torch.cuda.is_available())\n",
    "print(torch.cuda.current_device())\n",
    "print(torch.cuda.device_count())\n",
    "print(torch.cuda.get_device_name(0))"
   ]
  },
  {
   "cell_type": "markdown",
   "id": "6f2872c0-1ccb-4126-838f-5f741d9be0be",
   "metadata": {},
   "source": [
    "## **Tensors**"
   ]
  },
  {
   "cell_type": "code",
   "execution_count": null,
   "id": "61d2944e-c28c-439d-8080-1cc9f61e077b",
   "metadata": {},
   "outputs": [],
   "source": [
    "t = torch.empty(3, 5, 2, dtype=torch.int32) #создание тензора из случайных чисел\n",
    "t = torch.tensor([[1, 2, 3], [4, 5, 6]]) #создание тензора на основе списка\n",
    "t = torch.tensor(arr, dtype=torch.float32, requires_grad=True) #создание тензора с передачей ранее созданного списка\n",
    "t = torch.from_numpy(nympy_arr) #создание тензора на основе numpy массива\n",
    "                                #при изменении массива numpy тензор torch изменяется!\n",
    "\n",
    "t = torch.tensor([[2, 3], [4, 5]], device=torch.device('cuda:0')) #разместить тензор на GPU\n",
    "t = t.cpu()     #перевод тензора с GPU на CPU\n",
    "t = t.to('cpu') #\n",
    "\n",
    "t = t.cuda()     #перевод тензора с CPU на GPU\n",
    "t = t.to('cuda') #\n",
    "\n",
    "t.device #проверить, где лежит тензор: на CPU или GPU\n",
    "\n",
    "t[0, 0].item() #получить значение из тензора\n",
    "               #t[0, 0] без item() вернет tensor(228.)\n",
    "               #t[0, 0].item() вернет 228.0\n",
    "\n",
    "t = torch.zeros(2, 3, dtype=torch.int32)  #тензор из нулей\n",
    "t = torch.zeros_like(tensor)  #тензор из нулей той же размерности, что и tensor\n",
    "\n",
    "t = torch.ones(2, 3, dtype=torch.int32)  #тензор из единиц\n",
    "t = torch.eye(2, 3, dtype=torch.int32)  #единичная матрица\n",
    "t = torch.full((2, 4), 5, dtype=torch.int32)  #тензор 2x4, заполненный пятерками\n",
    "t = torch.full_like(tensor, 88)  #тензор из чисел 88той же размерности, что и tensor\n",
    "\n",
    "a = torch.arange(7) #диапазон чисел от 0 до 6\n",
    "a = torch.arange(5, 50, 10) #числа от 5 до 50 с шагом 10\n",
    "a = torch.linspace(1, 10, 100) #100 точек между 1 и 10\n",
    "\n",
    "t = torch.diag(torch.tensor([5, 4, 3])) #создает диагональную матрицу 3х3 из переданных элементов\n",
    "t = torch.tril(torch.tensor([[5, 4, 3], [1, 2, 2], [1, 2, 2]])) #нижнетреугольная матрица из переданной\n",
    "t = torch.triu(torch.tensor([[5, 4, 3], [1, 2, 2], [1, 2, 2]])) #верхнетреугольная матрица из переданной\n",
    "\n",
    "torch.cat([t1, t2], dim=1) #объединение тензоров по оси\n",
    "\n",
    "r = torch.rand(2, 3) #тензор, заполненный случайными значениями из (0, 1)\n",
    "r = torch.randn(2, 3) #тензор из нормального распределения чисел со средним 0 и ст. отклонением 1\n",
    "\n",
    "torch.manual_seed(54) #воспроизводимость случайных чисел\n",
    "\n",
    "d = t.reshape(27)      #\n",
    "d = t.reshape(3, 9)    #изменение размерности тензора\n",
    "d = t.reshape(3, 3, 3) #\n",
    "\n",
    "c = torch.matmul(a, b) #матричное умножение С транслированием\n",
    "d = torch.mm(a, b) #матричное умножение БЕЗ транслирования\n",
    "e = torch.bmm(a, b) #матричное умножение для батчей \n",
    "d = torch.dot(a, b) #скалярное произведение\n",
    "e = torch.outer(a, b) #внешнее произведение\n",
    "r = torch.mv(a, b) #умножение матрицы на вектор\n",
    "rank = torch.linalg.matrix_rank(a) #вычисление ранга матрицы\n",
    "s = torch.linalg.solve(A, y) #вычисление решения уравнения Ax=y\n",
    "\n",
    "d = t.view(27)      #\n",
    "d = t.view(3, 9)    #изменение размерности тензора\n",
    "d = t.view(3, 3, 3) #\n",
    "\n",
    "r = t.resize_(2, 2) #выбрать часть тензора\n",
    "\n",
    "v = t.ravel() #вытянуть тензор в вектор\n",
    "\n",
    "t.permute(1, 0) #поменять оси 1 и 0 местами (транспонирование)\n",
    "t.mT            #аналогично\n",
    "\n",
    "torch.unsqeeze(t, dim=0) #добавление одноэлементной оси на первое место\n",
    "t.unsqeeze(0)            #\n",
    "t.unsqeeze(-1) #добавление одноэлементной оси на последнее место\n",
    "\n",
    "torch.unsqeeze(t) #удаление одноэлементных осей\n",
    "t.squeeze()       #\n",
    "t.squeeze(dim=3)  #если третья ось одноэлементна, то она удалится\n",
    "\n",
    "torch.unsqeeze(x, ) #добавление оси\n",
    "\n",
    "m = t.sum(dim=0)\n",
    "m = t.max(dim=0) #возвращает два списка: индексы и значения\n",
    "m = t.max(dim=0).values\n",
    "m = t.max(dim=1).indices\n",
    "m = t.amax(dom=0) #сразу возвращает значения\n",
    "m = t.amin(dom=0) #\n",
    "\n",
    "m = torch.abs(t)   #\n",
    "m = torch.round(t) #или через inplace методы\n",
    "m = torch.log(t)   #\n",
    "\n",
    "torch.sin(x)\n",
    "torch.cos(x)\n",
    "torch.tan(x)\n",
    "\n",
    "torch.median(x)    #\n",
    "torch.var(x)       #\n",
    "torch.std(x)       #статистика\n",
    "torch.corrcoef(x)  #\n",
    "torch.cov(x)       #\n",
    "\n",
    "m = t.mean(dim=1, keepdim=True) #вычисляем среднее по строкам, \n",
    "                                #keepdim оставляет ту ось, по которой было усреднение\n",
    "\n",
    "tensor_half = tensor.half()      #torch.float16     #\n",
    "tensor_float = tensor.float()    #torch.float32     #\n",
    "tensor_double = tensor.double()  #torch.float64     #\n",
    "tensor_short = tensor.short()    #torch.int16       #преобразование типов\n",
    "tensor_int = tensor.int()        #torch.int32       #\n",
    "tensor_long = tensor.long()      #torch.int64       #\n",
    "tensor_char = tensor.char()      #torch.int8        #\n",
    "tensor_byte = tensor.byte()      #torch.uint8       #\n",
    "tensor_bool = tensor.bool()      #torch.bool        #"
   ]
  },
  {
   "cell_type": "markdown",
   "id": "0275bcbc-cf58-4f9d-9ff4-68a7381ce1f2",
   "metadata": {},
   "source": [
    "**In-place (mutable)** методы изменяют текущий тензор."
   ]
  },
  {
   "cell_type": "code",
   "execution_count": null,
   "id": "53370fce-c769-4d36-ad2f-9c31e61d1496",
   "metadata": {},
   "outputs": [],
   "source": [
    "t.add_(5)\n",
    "t.mul_(2)\n",
    "t.zero_()\n",
    "t.fill_(-0.8)\n",
    "t.random_(1, 7) \n",
    "t.uniform_(0, 1)\n",
    "t.normal_(0, 1)"
   ]
  },
  {
   "cell_type": "markdown",
   "id": "09dada73-0cc5-4ad1-88e0-e45598959f46",
   "metadata": {},
   "source": [
    "**Immutable методы:** Эти методы не изменяют текущий тензор, а создают новый."
   ]
  },
  {
   "cell_type": "code",
   "execution_count": null,
   "id": "08b484fe-5335-4ad7-b2ae-de4c6c974724",
   "metadata": {},
   "outputs": [],
   "source": [
    "t.add(5)\n",
    "t.mul(2)\n",
    "t.zero()\n",
    "t.fill(-0.8)\n",
    "t.random(1, 7) \n",
    "t.uniform(0, 1)\n",
    "t.normal(0, 1)"
   ]
  },
  {
   "cell_type": "markdown",
   "id": "9fedefd1-d6c8-48db-b27d-eb46daf51f5a",
   "metadata": {
    "jp-MarkdownHeadingCollapsed": true
   },
   "source": [
    "## **Adaptive optimization methods**"
   ]
  },
  {
   "cell_type": "markdown",
   "id": "7ba81166-2ac9-405e-a1ad-dd99fcfcc4cb",
   "metadata": {
    "jp-MarkdownHeadingCollapsed": true
   },
   "source": [
    "### **Momentum**"
   ]
  },
  {
   "cell_type": "markdown",
   "id": "9e1facc5-ec91-4593-9ada-78e584137ad2",
   "metadata": {},
   "source": [
    "- **Идея**: Метод оптимизации, вдохновленный инерцией. Он добавляет \"память\" о предыдущих градиентах, чтобы ускорить обучение.\n",
    "- **Принцип**: Обновление параметров учитывает не только текущий градиент, но и накопленное движение (скорость).\n",
    "- **Формула**:\n",
    "  $$\n",
    "  v_t = \\beta v_{t-1} + (1 - \\beta) g_t\n",
    "  $$\n",
    "  $$\n",
    "  \\theta_{t+1} = \\theta_t - \\eta \\cdot v_t\n",
    "  $$\n",
    "  где:\n",
    "  - $v_t$ — скорость (направление и величина изменений),\n",
    "  - $g_t$ — текущий градиент,\n",
    "  - $\\beta$ — коэффициент моментума,\n",
    "  - $\\eta$ — скорость обучения."
   ]
  },
  {
   "cell_type": "markdown",
   "id": "34960ad4-72b3-4b05-9b56-00cefd3eda11",
   "metadata": {
    "jp-MarkdownHeadingCollapsed": true
   },
   "source": [
    "### **RMSprop (Root Mean Square Propagation)**"
   ]
  },
  {
   "cell_type": "markdown",
   "id": "3a0ed954-41c7-425b-af38-01586704299a",
   "metadata": {},
   "source": [
    "- **Идея**: Адаптирует скорость обучения для каждого параметра, используя скользящее среднее квадратов градиентов. Это помогает стабилизировать обновления.\n",
    "- **Принцип**: Для каждого параметра накапливается среднеквадратичное значение градиентов, что позволяет учитывать только последние градиенты.\n",
    "- **Формула**:\n",
    "  $$\n",
    "  v_t = \\beta v_{t-1} + (1 - \\beta) g_t^2\n",
    "  $$\n",
    "  $$\n",
    "  \\theta_{t+1} = \\theta_t - \\frac{\\eta}{\\sqrt{v_t + \\epsilon}} \\cdot g_t\n",
    "  $$\n",
    "  где:\n",
    "  - $v_t$ — скользящее среднее квадратов градиентов,\n",
    "  - $\\beta$ — коэффициент для скользящего среднего,\n",
    "  - $\\eta$ — скорость обучения,\n",
    "  - $\\epsilon$ — маленькое число для стабилизации."
   ]
  },
  {
   "cell_type": "markdown",
   "id": "bc84d318-16c1-44f9-a1ce-d5cb9c0cd264",
   "metadata": {
    "jp-MarkdownHeadingCollapsed": true
   },
   "source": [
    "### **Adam (Adaptive Moment Estimation)**"
   ]
  },
  {
   "cell_type": "markdown",
   "id": "c4dbbf54-b584-4ff7-9f8d-71bf3e09390d",
   "metadata": {},
   "source": [
    "- **Идея**: Сочетает **Momentum** и **RMSprop**. Использует как первый момент (градиенты), так и второй момент (квадраты градиентов) для адаптации скорости обучения.\n",
    "- **Принцип**: Адаптирует скорость обучения для каждого параметра, используя скользящее среднее градиентов и квадратов градиентов.\n",
    "- **Формула**:\n",
    "  $$\n",
    "  v_t = \\beta_1 v_{t-1} + (1 - \\beta_1) g_t\n",
    "  $$\n",
    "  $$\n",
    "  s_t = \\beta_2 s_{t-1} + (1 - \\beta_2) g_t^2\n",
    "  $$\n",
    "  $$\n",
    "  \\theta_{t+1} = \\theta_t - \\frac{\\eta}{\\sqrt{s_t + \\epsilon}} \\cdot v_t\n",
    "  $$\n",
    "  где:\n",
    "  - $v_t$ и $s_t$ — моменты первого и второго порядка,\n",
    "  - $\\beta_1$, $\\beta_2$ — коэффициенты для моментов,\n",
    "  - $\\eta$ — скорость обучения,\n",
    "  - $\\epsilon$ — стабилизирующий коэффициент."
   ]
  },
  {
   "cell_type": "markdown",
   "id": "3f84cda0-08ff-4ed6-9a06-e42e2f141c69",
   "metadata": {
    "jp-MarkdownHeadingCollapsed": true
   },
   "source": [
    "### **Adagrad (Adaptive Gradient Algorithm)**"
   ]
  },
  {
   "cell_type": "markdown",
   "id": "46631288-8784-4fd1-bb46-821e08914d4a",
   "metadata": {},
   "source": [
    "- **Идея**: Адаптивный метод оптимизации, который изменяет скорость обучения для каждого параметра в зависимости от величины его градиента.\n",
    "- **Принцип**: Накапливается сумма квадратов градиентов для каждого параметра, и это накопление влияет на скорость обучения.\n",
    "- **Формула**:\n",
    "  $$\n",
    "  \\theta_{t+1} = \\theta_t - \\frac{\\eta}{\\sqrt{G_t + \\epsilon}} \\cdot g_t\n",
    "  $$\n",
    "  где:\n",
    "  - $G_t$ — накопленная сумма квадратов градиентов,\n",
    "  - $\\epsilon$ — маленькое число для стабилизации."
   ]
  },
  {
   "cell_type": "code",
   "execution_count": null,
   "id": "75466fed-4398-43a1-971b-6e1e43ecdd0c",
   "metadata": {},
   "outputs": [],
   "source": []
  }
 ],
 "metadata": {
  "kernelspec": {
   "display_name": "Python 3 (ipykernel)",
   "language": "python",
   "name": "python3"
  },
  "language_info": {
   "codemirror_mode": {
    "name": "ipython",
    "version": 3
   },
   "file_extension": ".py",
   "mimetype": "text/x-python",
   "name": "python",
   "nbconvert_exporter": "python",
   "pygments_lexer": "ipython3",
   "version": "3.12.7"
  }
 },
 "nbformat": 4,
 "nbformat_minor": 5
}
