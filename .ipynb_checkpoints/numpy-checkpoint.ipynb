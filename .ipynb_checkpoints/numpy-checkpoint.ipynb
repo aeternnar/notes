{
 "cells": [
  {
   "cell_type": "markdown",
   "id": "3eab7ef6-527a-48d1-9fc5-b855e3c556b0",
   "metadata": {},
   "source": [
    "# **NumPy**"
   ]
  },
  {
   "cell_type": "markdown",
   "id": "8123cfd0-d3c1-4970-9061-18428cec36b2",
   "metadata": {},
   "source": [
    "### **Одномерные массивы**"
   ]
  },
  {
   "cell_type": "code",
   "execution_count": null,
   "id": "569e68cc-fd98-4558-9f65-1104240bc63c",
   "metadata": {},
   "outputs": [],
   "source": [
    "arr = np.array([1,2,3,4])\n",
    "arr = np.append(arr, 5) # добавить в arr число 5\n",
    "\n",
    "np.ones(7) # создать массив из семи нулей\n",
    "\n",
    "np.zeros(10) # создать массив из десяти единиц\n",
    "np.full(5, 111) # создать массив из пяти 111\n",
    "\n",
    "np.arange(0, 10, 2) # аналог range\n",
    "\n",
    "arr1 + arr2\n",
    "arr1 - arr2\n",
    "arr1 * arr2 # арифметические операции\n",
    "arr1 / arr2\n",
    "arr ** arr2\n",
    "\n",
    "arr.dtype # узнать тип данных элементов массива\n",
    "arr = np.array([1,2,3,4,5], dtype='float64')\n",
    "arr = np.array([0,2,3,0,511], dtype='bool') # array([False,True,True,False,True])\n",
    "arr = arr.astype('float64') # изменение типа данных элементов массива"
   ]
  },
  {
   "cell_type": "markdown",
   "id": "d92f491d-a804-4f78-a980-99365a4dfd5d",
   "metadata": {},
   "source": [
    "### **Многомерные массивы**\n"
   ]
  },
  {
   "cell_type": "code",
   "execution_count": null,
   "id": "06550f02-2a39-420d-8f68-5d7187f453ce",
   "metadata": {},
   "outputs": [],
   "source": [
    "mat2d = [[1, 2, 3, 4, 5],     #двумерная матрица\n",
    "       [0, 9, 8, 7, 6]]      \n",
    "     \n",
    "mat3d = np.array([[[1, 2, 3, 4, 5],    #трехмерный тензор\n",
    "                   [6, 7, 8, 9, 10]],\n",
    "\n",
    "                  [[11, 12, 13, 14, 15],\n",
    "                   [16, 17, 18, 19, 20]]])\n",
    "\n",
    "np.random.seed(42) #чтобы можно было получать одни и те же числа\n",
    "np.random.rand(5,5) #случайные числа от 0 до 1  \n",
    "np.random.randn(3, 4) #случайные числа, распределенные нормально\n",
    "              #со средним 0 и станд. отклонением 1\n",
    "np.random.randint(1, 100, 10) #10 чисел в диапазоне (1, 100)\n",
    "\n",
    "np.eye(4) #единичная матрица           \n",
    "np.ones((2,3,4))      #тензор 2х3х4 из единиц\n",
    "np.full((2,3,4), 54)  #тензор 2х3х4, заполненная числом 54\n",
    " \n",
    "mat3d.shape  #кол-во элементов каждого измерения\n",
    "mat3d.ndim   #размерность массива\n",
    "\n",
    "mat3d.flatten() #сделать из элементов матрицы одномерный массив\n",
    "mat3d.reshape(20)      \n",
    "mat3d.reshape(10, 2)   #различные манипуляции с размерностью для 20-ти элементов\n",
    "mat3d.reshape(5, 2, 2) \n",
    "\n",
    "arr.T #транспонирование матрицы\n",
    "arr @ arr.T #умножение матриц\n",
    "\n",
    "arr[:] = 1 #все элементы массива заменятся на единицу\n",
    "mask = arr > 5 #маска\n",
    "~mask #инвертирование маски\n",
    "arr[arr>5] или arr[mask] #применение маски\n",
    "arr[mask1 | mask2] #совместное использование масок\n",
    "sliced_arr = arr[4:].copy() #без copy() далее может измениться оригинал\n",
    "arr[:, 0, :] #срез, все таблицы, нулевые строки, все элементы\n",
    "arr[users == 'ilya', 1] #строки, соотв. пользователю ilya, и столбец 1\n",
    "arr[[0, 2], 0] #берем нулевую и вторую строку, а из них нулевые элементы\n",
    "arr[[0,1,2],[2,3,1]] #причудливая индексация: выведет элементы [0,2],[1,3],[2,1]"
   ]
  },
  {
   "cell_type": "markdown",
   "id": "46ec4098-cb9d-41c3-b3d6-ac2676c60d66",
   "metadata": {},
   "source": [
    "### **Унарные функции**\n"
   ]
  },
  {
   "cell_type": "code",
   "execution_count": null,
   "id": "b86c86d2-5382-4127-a2d8-b50d7052c124",
   "metadata": {},
   "outputs": [],
   "source": [
    "arr.flatten() #сделать из массива одномерный массив\n",
    "\n",
    "np.sqrt(arr) #извлечь корень из элементов массива\n",
    "np.abs(arr) #вернуть модули элементов массива\n",
    "np.sum(arr) #подсчет суммы элементов\n",
    "\n",
    "np.max(arr) #получить максимальное значение\n",
    "np.argmax(arr) #вернет порядковый номер максимального элемента\n",
    "np.min(arr) #получить минимальное значение\n",
    "np.argmin(arr) #вернет порядковый номер минимального элемента\n",
    "\n",
    "arr.max(axis = 0) #максимум по столбцам\n",
    "arr.max(axis = 1) #максимум по строкам\n",
    "\n",
    "np.mean(arr) #среднее значение\n",
    "np.median(arr) #медиана\n",
    "\n",
    "np.round(arr, 2) #арифметическое округление до двух знаков после запятой\n",
    "np.floor(arr) #округление вниз\n",
    "np.ceil(arr) #округление вверх\n",
    "\n",
    "arr.any() #вернет True, если в массиве есть хотя бы одно ненулевое значение\n",
    "arr.all() #вернет True, если все элементы ненулевые\n",
    "\n",
    "np.unique(arr, return_counts=True) #возвращает массив уникальных значений и кол-во повторений\n",
    "np.isnan(arr) #возвращает маску, отмечая элементы, равные nan [False, False, True]\n",
    "\n",
    "np.sort(arr) #сортировка\n",
    "np.sort(arr, axis=0) #сортировка по столбцам\n",
    "\n",
    "np.abs(arr1, out=arr2) #записать результат работы функции в конкрентный массив\n",
    "            #должна совпадать размерность\n",
    "            \n",
    "np.where(*условие*, *действие при выполнении*, *действие при НЕ выполнении*)\n",
    "np.where(arr <= 2, 0, arr) #если элемент <= 2, то приравняем к нулю, иначе ничего\n",
    "#Пример: arr1 = np.where((arr1 < 0np.percentile(sample, [75, 25]) #узнать указанные процентили для данных) & (arr1 <= arr2), arr2, np.minimum(arr1, arr2))"
   ]
  },
  {
   "cell_type": "markdown",
   "id": "9454f607-0745-4bf6-8685-7dab9043a159",
   "metadata": {},
   "source": [
    "### **Бинарные функции**\n"
   ]
  },
  {
   "cell_type": "code",
   "execution_count": null,
   "id": "9d0cc729-017e-425c-a6d5-44082b0d7525",
   "metadata": {},
   "outputs": [],
   "source": [
    "np.maximum(arr1, arr2) #максимум по столбцам для двух массивов\n",
    "np.minimum(arr1, arr2) #аналогично, но минимум\n",
    "\n",
    "np.array_equal(a, b) #вернет True, если массивы идентичны"
   ]
  },
  {
   "cell_type": "markdown",
   "id": "f135313c-c72e-4cd0-9732-9b9be666f65d",
   "metadata": {},
   "source": [
    "### **Сохранение массива в файл**\n"
   ]
  },
  {
   "cell_type": "code",
   "execution_count": null,
   "id": "2f5adbd4-f230-4c59-83aa-b022230580ae",
   "metadata": {},
   "outputs": [],
   "source": [
    "np.save('array', arr) #сохранить массив arr в файл 'array.npy'\n",
    "np.savez('arrays', arr1_name=arr1, arr2_name=arr2) #сохранить множество массивов в 'arrays.npz''\n",
    "\n",
    "np.load('array.npy') #выгрузить ранее сохраненный массив\n",
    "np.load('arrays.npz')['arr1_name'] #выгрузить конкретный массив из набора по имени"
   ]
  },
  {
   "cell_type": "markdown",
   "id": "2e4318de-aa10-43cc-89d9-a6614d31c050",
   "metadata": {},
   "source": [
    "### **Статистика**\n"
   ]
  },
  {
   "cell_type": "code",
   "execution_count": null,
   "id": "7464b36c-14c0-4d53-bb47-44ec666c1b9b",
   "metadata": {},
   "outputs": [],
   "source": [
    "np.percentile(sample, [75, 25]) #узнать указанные процентили для данных"
   ]
  }
 ],
 "metadata": {
  "kernelspec": {
   "display_name": "Python 3 (ipykernel)",
   "language": "python",
   "name": "python3"
  },
  "language_info": {
   "codemirror_mode": {
    "name": "ipython",
    "version": 3
   },
   "file_extension": ".py",
   "mimetype": "text/x-python",
   "name": "python",
   "nbconvert_exporter": "python",
   "pygments_lexer": "ipython3",
   "version": "3.12.4"
  }
 },
 "nbformat": 4,
 "nbformat_minor": 5
}
