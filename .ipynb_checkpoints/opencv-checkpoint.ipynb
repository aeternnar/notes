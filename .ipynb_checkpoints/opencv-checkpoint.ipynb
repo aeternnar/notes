{
 "cells": [
  {
   "cell_type": "code",
   "execution_count": null,
   "id": "94879767-1eff-421e-82c8-69a112c6a0d9",
   "metadata": {},
   "outputs": [],
   "source": [
    "python -m pip install opencv-contrib-python #внутрь конда окружения"
   ]
  },
  {
   "cell_type": "code",
   "execution_count": 1,
   "id": "a8749f07-7e48-4a11-853d-c649996ade83",
   "metadata": {},
   "outputs": [],
   "source": [
    "import cv2"
   ]
  },
  {
   "cell_type": "code",
   "execution_count": null,
   "id": "c64d6330-3b19-41ef-888d-f72da8737c3f",
   "metadata": {},
   "outputs": [],
   "source": [
    "image = cv2.imread('/home/aeternnar/Pictures/ML/RGB-image.png')\n",
    "cv2.imshow('Image', image)\n",
    "\n",
    "cv2.waitKey(0) #ожидает нажатия любой клавиши\n",
    "cv2.destroyAllWindows() #закроет окно перед завершением скрипта"
   ]
  },
  {
   "cell_type": "code",
   "execution_count": null,
   "id": "a9900c7e-0f07-4ea9-b024-7298c32a66fe",
   "metadata": {},
   "outputs": [],
   "source": [
    "image = cv2.imread('/home/aeternnar/Pictures/ML/RGB-image.png')\n",
    "image2show = cv2.cvtColor(image, cv2.COLOR_BGR2RGB) #конвертация BGR -> RGB\n",
    "\n",
    "plt.imshow(image2show)\n",
    "plt.show()"
   ]
  },
  {
   "cell_type": "code",
   "execution_count": null,
   "id": "c12dce92-d29c-4d8a-b5f6-ea5510baaaca",
   "metadata": {},
   "outputs": [],
   "source": [
    "path = '/home/aeternnar/Pictures/ML/'\n",
    "cv2.imwrite(path + 'new_img.jpg', image)"
   ]
  }
 ],
 "metadata": {
  "kernelspec": {
   "display_name": "Python (myenv)",
   "language": "python",
   "name": "myenv"
  },
  "language_info": {
   "codemirror_mode": {
    "name": "ipython",
    "version": 3
   },
   "file_extension": ".py",
   "mimetype": "text/x-python",
   "name": "python",
   "nbconvert_exporter": "python",
   "pygments_lexer": "ipython3",
   "version": "3.12.7"
  }
 },
 "nbformat": 4,
 "nbformat_minor": 5
}
