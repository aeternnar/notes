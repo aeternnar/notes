{
 "cells": [
  {
   "cell_type": "code",
   "execution_count": null,
   "id": "0ba6dfe5-79cf-463d-b030-412baf413721",
   "metadata": {},
   "outputs": [],
   "source": [
    "su\n",
    "sudo visudo\n",
    "aeternnar    ALL=(ALL:ALL) ALL #добавить строчку в конец файла\n",
    "\n",
    "sudo apt update && sudo apt upgrade -y\n",
    "sudo apt-get update\n",
    "sudo apt-get install gnome-shell\n",
    "sudo apt-get install gnome-tweaks\n",
    "\n",
    "# https://extensions.gnome.org/extension/307/dash-to-dock/ <- dock-to-dash\n",
    "\n",
    "# https://www.anaconda.com/download/success <- anaconda\n",
    "\n",
    "sudo apt install linux-headers-$(uname -r) build-essential\n",
    "sudo nano /etc/apt/sources.list #Добавьте `contrib` и `non-free` к вашим репозиториям в конце\n",
    "sudo apt update\n",
    "sudo apt install nvidia-driver\n",
    "sudo reboot\n",
    "nvidia-smi #тут смотрим версию CUDA и устанавливаем PyTorch с версией не моложе указанной\n",
    "\n",
    "conda create --name myenv numpy pandas matplotlib seaborn scikit-learn scipy jupyter notebook\n",
    "conda activate myenv\n",
    "conda install pytorch torchvision torchaudio pytorch-cuda=12.1 -c pytorch -c nvidia\n",
    "\n",
    "conda install ipykernel\n",
    "python -m ipykernel install --user --name=myenv --display-name \"Python (myenv)\" #потом выбрать kernel(myenv)\n",
    "\n",
    "apt install git\n",
    "ssh-keygen -t rsa -b 4096 -C \"aeternnar@gmail.com\"\n",
    "eval \"$(ssh-agent -s)\"\n",
    "ssh-add /home/aeternnar/.ssh/id_rsa\n",
    "cat /home/aeternnar/.ssh/id_rsa.pub #копирование SSH, после добавляем скопированное в SSH-ключи на GitHub\n",
    "ssh -T git@github.com #проверка установленной связи\n",
    "\n",
    "git config --global user.email \"aeternnar@gmail.com\"\n",
    "git config --global user.name \"aeternnar\"\n",
    "\n",
    "git clone git@github.com:aeternnar/notes.git\n",
    "cd notes\n",
    "git status\n",
    "\n",
    "sudo apt install telegram-desktop\n",
    "\n",
    "curl -sS https://download.spotify.com/debian/pubkey_6224F9941A8AA6D1.gpg | sudo gpg --dearmor --yes -o /etc/apt/trusted.gpg.d/spotify.gpg\n",
    "echo \"deb http://repository.spotify.com stable non-free\" | sudo tee /etc/apt/sources.list.d/spotify.list\n",
    "sudo apt-get update && sudo apt-get install spotify-client"
   ]
  }
 ],
 "metadata": {
  "kernelspec": {
   "display_name": "Python 3 (ipykernel)",
   "language": "python",
   "name": "python3"
  },
  "language_info": {
   "codemirror_mode": {
    "name": "ipython",
    "version": 3
   },
   "file_extension": ".py",
   "mimetype": "text/x-python",
   "name": "python",
   "nbconvert_exporter": "python",
   "pygments_lexer": "ipython3",
   "version": "3.12.7"
  }
 },
 "nbformat": 4,
 "nbformat_minor": 5
}
