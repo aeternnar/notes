{
 "cells": [
  {
   "cell_type": "markdown",
   "id": "15ea1755-c9dd-4d9f-88e4-9156a7d7ecd6",
   "metadata": {},
   "source": [
    "# **Алгоритмы и структуры данных**"
   ]
  },
  {
   "cell_type": "markdown",
   "id": "db5bb960-1bc1-45a1-ba7b-5263f2a83517",
   "metadata": {},
   "source": [
    "### Bit Manipulation"
   ]
  },
  {
   "cell_type": "code",
   "execution_count": null,
   "id": "bb26b0c9-7d6a-4fb8-b6cb-a031b28fc74f",
   "metadata": {},
   "outputs": [],
   "source": [
    "x >>= 1 #битовый сдвиг вправо, т.е. деление на 2\n",
    "x <<= 1 #битовый сдвиг влево, т.е. умножение на 2\n",
    "\n",
    "x ^= 1 #инверсия\n",
    "\n",
    "if (x & 1) == 0 #если так,то число четно, иначе нечетно"
   ]
  },
  {
   "cell_type": "markdown",
   "id": "c7df52f7-07b6-495f-8e1d-ca2ea81bfc4b",
   "metadata": {},
   "source": [
    "### Все subarrays для array"
   ]
  },
  {
   "cell_type": "code",
   "execution_count": null,
   "id": "346389ff-b6cf-469c-9ab6-e5f3e4877fb9",
   "metadata": {},
   "outputs": [],
   "source": [
    "nums = [1, 2, 3, 4, 5]\n",
    "subs = [[]]\n",
    "\n",
    "for num in nums:\n",
    " subs += [sub + [num] for sub in subs]"
   ]
  },
  {
   "cell_type": "markdown",
   "id": "e90a7578-b58f-4981-841e-21ea32e64a28",
   "metadata": {},
   "source": [
    "### Бинарный поиск"
   ]
  },
  {
   "cell_type": "code",
   "execution_count": null,
   "id": "ff706ab1-c93a-412e-bd82-238f354787ec",
   "metadata": {},
   "outputs": [],
   "source": [
    "def binary_search_iterative(arr, x):\n",
    "\n",
    "    left = 0 \n",
    "    right = len(arr) - 1\n",
    "    \n",
    "    while left <= right:\n",
    "        mid = (left + right) // 2\n",
    "        if arr[mid] == x:\n",
    "            return mid\n",
    "        elif arr[mid] < x:\n",
    "            left = mid + 1\n",
    "        else:\n",
    "            right = mid - 1\n",
    "    return -1"
   ]
  },
  {
   "cell_type": "markdown",
   "id": "30ef2507-d8fc-4e79-8c98-688ff2889013",
   "metadata": {},
   "source": [
    "### Сортировка пузырьком"
   ]
  },
  {
   "cell_type": "code",
   "execution_count": null,
   "id": "5603aeb0-5fe3-4659-ba66-f9ffdc5be211",
   "metadata": {},
   "outputs": [],
   "source": [
    "def bubble_sort(arr):\n",
    "    n = len(arr)\n",
    "    for i in range(n):\n",
    "        for j in range(0, n-i-1):\n",
    "            if arr[j] > arr[j+1]:\n",
    "                arr[j], arr[j+1] = arr[j+1], arr[j]\n",
    "    return arr"
   ]
  },
  {
   "cell_type": "markdown",
   "id": "6840565d-596b-4966-8768-539bff8405fb",
   "metadata": {},
   "source": [
    "### Сортировка выбором"
   ]
  },
  {
   "cell_type": "code",
   "execution_count": null,
   "id": "cef758d3-ffea-4136-8ae0-3b970cdfa786",
   "metadata": {},
   "outputs": [],
   "source": [
    "def selection_sort(arr):\n",
    "    n = len(arr)\n",
    "\n",
    "    for i in range(n):\n",
    "        min_index = i\n",
    "\n",
    "        for j in range(i+1, n):\n",
    "            if arr[j] < arr[min_index]:\n",
    "                min_index = j\n",
    "\n",
    "        arr[i], arr[min_index] = arr[min_index], arr[i]\n",
    " return arr"
   ]
  },
  {
   "cell_type": "markdown",
   "id": "4f625e1c-6de4-4e6d-a986-803ce8ad013b",
   "metadata": {},
   "source": [
    "### Быстрая сортировка"
   ]
  },
  {
   "cell_type": "code",
   "execution_count": null,
   "id": "4a2ad852-1f37-4b4f-b9bd-ff858638e7af",
   "metadata": {},
   "outputs": [],
   "source": [
    "def quick_sort(arr):\n",
    "\n",
    "    if len(arr) <= 1:\n",
    "        return arr\n",
    "\n",
    "    pivot = arr[len(arr) // 2]\n",
    "\n",
    "    left = [x for x in arr if x < pivot]\n",
    "    middle = [x for x in arr if x == pivot]\n",
    "    right = [x for x in arr if x > pivot]\n",
    "\n",
    "    return quick_sort(left) + middle + quick_sort(right)"
   ]
  },
  {
   "cell_type": "markdown",
   "id": "4f2c6602-e433-4ef8-8e21-7b6e02a77faf",
   "metadata": {},
   "source": [
    "### Алгоритм большинства голосов Бойера — Мура"
   ]
  },
  {
   "cell_type": "code",
   "execution_count": null,
   "id": "35f5c1c4-ccd0-4317-8c0c-d6b09cee10c9",
   "metadata": {},
   "outputs": [],
   "source": [
    "def majorityElement(self, nums: List[int]) -> int:\n",
    "\n",
    "    count = 0\n",
    "    candidate = None\n",
    "        \n",
    "    for num in nums:\n",
    "        if count == 0:\n",
    "          candidate = num\n",
    "                \n",
    "        if num == candidate:\n",
    "            count += 1\n",
    "        else:\n",
    "            count -= 1\n",
    "        \n",
    "    return candidate\n"
   ]
  },
  {
   "cell_type": "markdown",
   "id": "6c3079ff-7030-4f01-845c-dee41827ca4c",
   "metadata": {},
   "source": [
    "### Алгоритм Евклида"
   ]
  },
  {
   "cell_type": "code",
   "execution_count": null,
   "id": "4c2a8a86-1805-494e-9943-0ab6e7c6f2ff",
   "metadata": {},
   "outputs": [],
   "source": [
    "def gcd(a, b):\n",
    "  while b:\n",
    "    a, b = b, a % b\n",
    "  return a"
   ]
  },
  {
   "cell_type": "markdown",
   "id": "ba057503-bac4-4b4d-88c4-dc039aa5e5cf",
   "metadata": {},
   "source": [
    "### Tree DFS"
   ]
  },
  {
   "cell_type": "code",
   "execution_count": null,
   "id": "699a0251-4426-4d38-9df7-bf1f606830cd",
   "metadata": {},
   "outputs": [],
   "source": [
    "def pre_order_recursive(root):\n",
    "    if root:\n",
    " \n",
    "        print(root.val)\n",
    " \n",
    "        printPreorder(root.left)\n",
    " \n",
    "        printPreorder(root.right)\n",
    "        \n",
    " ----------------------------------------------------------\n",
    "\n",
    "def pre_order_iterative(root):\n",
    "    if not root:\n",
    "        return\n",
    "        \n",
    "    stack = [root]\n",
    "    \n",
    "    while stack:\n",
    "        node = stack.pop()\n",
    "        print(node.val, end=\" \")\n",
    "        \n",
    "        if node.right:\n",
    "            stack.append(node.right)\n",
    "        if node.left:\n",
    "            stack.append(node.left)"
   ]
  },
  {
   "cell_type": "markdown",
   "id": "ecd35612-2b55-479c-8be6-4ab7f3108add",
   "metadata": {},
   "source": [
    "### Tree BFS"
   ]
  },
  {
   "cell_type": "code",
   "execution_count": null,
   "id": "d38208fb-e110-4147-b332-686762804b54",
   "metadata": {},
   "outputs": [],
   "source": [
    "def bfs(root):\n",
    "    if root is None:\n",
    "        return\n",
    "    \n",
    "    queue = deque([root])\n",
    "    \n",
    "    while queue:\n",
    "        node = queue.popleft()\n",
    "        print(node.val, end=\" \")\n",
    "\n",
    "        if node.left:\n",
    "            queue.append(node.left)\n",
    "        if node.right:\n",
    "            queue.append(node.right)"
   ]
  },
  {
   "cell_type": "markdown",
   "id": "6b02065f-af97-49c6-93de-28a9a8414ff7",
   "metadata": {},
   "source": [
    "### Tree max depth"
   ]
  },
  {
   "cell_type": "code",
   "execution_count": null,
   "id": "aea6c852-fe05-49a4-b626-27f07347d2ea",
   "metadata": {},
   "outputs": [],
   "source": [
    "def maxDepth(node):\n",
    "    if not node:\n",
    "        return 0\n",
    "    left_depth = maxDepth(node.left)\n",
    "    right_depth = maxDepth(node.right)\n",
    "    return max(left_depth, right_depth) + 1"
   ]
  }
 ],
 "metadata": {
  "kernelspec": {
   "display_name": "Python 3 (ipykernel)",
   "language": "python",
   "name": "python3"
  },
  "language_info": {
   "codemirror_mode": {
    "name": "ipython",
    "version": 3
   },
   "file_extension": ".py",
   "mimetype": "text/x-python",
   "name": "python",
   "nbconvert_exporter": "python",
   "pygments_lexer": "ipython3",
   "version": "3.12.4"
  }
 },
 "nbformat": 4,
 "nbformat_minor": 5
}
