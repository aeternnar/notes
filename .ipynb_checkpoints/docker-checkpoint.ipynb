{
 "cells": [
  {
   "cell_type": "markdown",
   "id": "9b7dc8a1-771e-4435-be08-6ef904142e37",
   "metadata": {},
   "source": [
    "# **Docker**"
   ]
  },
  {
   "cell_type": "markdown",
   "id": "0fc771f8-2570-4e20-8444-08108021e302",
   "metadata": {},
   "source": [
    "**Dockerfile** — текстовый файл, в котором описывается процесс сборки Docker-образа. В нем указываются инструкции для скачивания необходимых компонентов, копирования файлов, настройки среды и многие другие действия, необходимые для создания окружения, в котором будет работать ваше приложение.\n",
    "\n",
    "**Docker image** — шаблон, на основе которого запускается контейнер Docker. Он содержит все необходимые файлы для запуска приложения в изолированном окружении. Docker images создаются на основе Dockerfile и могут быть сохранены и перенесены между разными средами.\n",
    "\n",
    "**Docker registry** — это сервис, который хранит и управляет Docker images. Он позволяет пользователям загружать и скачивать образы, делиться ими с другими пользователями и управлять доступом к образам. Docker Hub, о котором я упоминал ранее, является одним из наиболее известных публичных Docker реестров."
   ]
  },
  {
   "cell_type": "markdown",
   "id": "5820b7e2-77cb-4995-b366-2f0336c27708",
   "metadata": {},
   "source": [
    "### **Основные команды**"
   ]
  },
  {
   "cell_type": "code",
   "execution_count": null,
   "id": "4469644f-d8e0-4e6c-9f5c-4f8e9e4389c3",
   "metadata": {},
   "outputs": [],
   "source": [
    "docker ps #проверить запущенные контейнеры\n",
    "docker ps -a #проверить запущенные контейнеры, включая остановленные\n",
    "service docker status #проверка запущен ли Docker (LINUX)\n",
    "\n",
    "docker run hello-world #создание контейнера\n",
    "docker rm c6ae #удаление контейнера по первым символам его CONTAINER ID\n",
    "\n",
    "docker images #просмотр images\n",
    "docker rmi feb5 #удаление image по первым с имволам его IMAGE ID\n",
    "\n",
    "docker pull ubuntu #установка образа (image) c Docker Hub\n",
    "\n",
    "docker run ubuntu #создание и запуск контейнера на основе образа\n",
    "docker run ubuntu sleep 5 #создание и запуск контейнера на пять секунд\n",
    "docker run -d ubuntu sleep 10 #создание и запуск контейнера в фоне\n",
    "docker run ubuntu:20.04 #создание и запуск контейнера конкретной версии с Docker Hub\n",
    "\n",
    "docker start 644o #запуск контейнера \n",
    "\n",
    "docker pause 1ce #пауза контейнера\n",
    "docker unpause 1ce #снятие контейнера с паузы\n",
    "\n",
    "docker stop 403t #остановка контейнера\n",
    "dokker kill 403t #убить контейнер\n",
    "\n",
    "docker run --rm -d ubuntu sleep 900 #после остановки контейнер будет убит\n",
    "docker run -d --rm nginx\n",
    "\n",
    "docker inspect 150x #информация о контейнере\n",
    "docker stats 150x #информация о нагрузке на память и CPU\n",
    "docker run --rm --name My-Container ubuntu echo \"Hello!\" #дать имя контейнеру и передача аргумента\n",
    "\n",
    "docker logs MyNginx #просмотр лога контейнера по его имени\n",
    "docker logs -f MyNginx #обновляющийся лог\n",
    "\n",
    "docker exec -it MyNginx /bin/bash #интерактивный режим, выполнение команд внутри контейнера: открытие bash\n",
    "exit #выход из интерактивного режима\n",
    "\n",
    "docker system prune -a --volumes #удаление всех ОСТАНОВЛЕННЫХ контейнеров всех образов\n",
    "docker run -d --name web1 -p 80:80 nginx #пробрасывание порта 80 сервера на порт 80 докера\n",
    "\n",
    "ip a #посмотреть айпи порта (LINUX)"
   ]
  },
  {
   "cell_type": "markdown",
   "id": "b1d2b76a-9c43-423e-8de8-1a66c657412c",
   "metadata": {},
   "source": [
    "### **Переменные**"
   ]
  },
  {
   "cell_type": "code",
   "execution_count": null,
   "id": "32b1b145-e7db-494e-8856-599dc3071150",
   "metadata": {},
   "outputs": [],
   "source": [
    "docker run --name mysql1 -e MYSQL_ROOT_PASSWORD=pw1234 -d mysql \n",
    "       #создание контейнера с именем и переменной окружения в фоновом режиме\n",
    "docker exec -it mysql1 /bin/bash #интерактивный режим, где можем проверить наличие переменной\n",
    "                 #командой env\n",
    "mysql -p #подключение с вводом пароля\n",
    "\n",
    "docker exec -it mysql1 mysql -uroot -p #можно сразу войти таким образом"
   ]
  },
  {
   "cell_type": "markdown",
   "id": "61d10a81-27aa-4150-bfbd-e6735b1bcb52",
   "metadata": {},
   "source": [
    "### **Постоянные данные (Volumes)**"
   ]
  },
  {
   "cell_type": "markdown",
   "id": "d843f332-04b5-4a7b-9dee-16f82ffd7918",
   "metadata": {},
   "source": [
    "Монтирование в контексте Docker означает привязку файловой системы хост-системы к файловой системе внутри контейнера. Это позволяет обмениваться данными между хост-системой и контейнером, сохраняя данные после остановки или удаления контейнера."
   ]
  },
  {
   "cell_type": "code",
   "execution_count": null,
   "id": "f73c1280-fb4c-4a8b-b38b-5d638071da31",
   "metadata": {},
   "outputs": [],
   "source": [
    "docker volume ls #проверить список volume'ов\n",
    "docker run --name web01 -p 80:80 -d nginx #пробрасывание порта\n",
    "\n",
    "docker exec -it web01 /bin/bash #внесем некоторые изменения\n",
    " cd /usr/share/nginx/html\n",
    " ls -la\n",
    " cat index.html\n",
    " cat <<EOT >>index.html #вводим html код\n",
    " cat index.html #просматриваем изменения. на порте html изменился\n",
    "                #после удаления этого контейнера и создания одноименного\n",
    "                #внесенные изменения пропадут\n",
    "----------------------------------------------------------------------------\n",
    "#Как фиксить?\n",
    "----------------------------------------------------------------------------\n",
    "#Host Volumes\n",
    "cd /opt/\n",
    "mkdir nginx\n",
    "cd nginx\n",
    "mkdir data\n",
    "\n",
    "docker run --name web01 -p 80:80 -v /opt/nginx/data/:/usr/share/nginx/html -d nginx #монтируем новый каталог в каталог контейнера\n",
    "#на сайте ничего не показывается, так как новая директория пуста\n",
    "\n",
    "cd data\n",
    "vi index.html #открываем редактор и копируем сюда содержимое корневого html\n",
    "              #теперь сайт работает\n",
    "\n",
    "docker stop web01\n",
    "docker rm web1\n",
    "docker run --name web01 -p 80:80 -v /opt/nginx/data/:/usr/share/nginx/html -d nginx\n",
    "#после удаления и создания одноименного контейнера изменения сохранились\n",
    "----------------------------------------------------------------------------\n",
    "#Anonymous Volumes\n",
    "\n",
    "cd /var/lib/docker/volumes\n",
    "\n",
    "docker run --rm --name web01 -p 80:80 -v /usr/share/nginx/html -d nginx\n",
    "ls #видим контейнер типа 234redwf4r84ri4ri5434r34r\n",
    "cd 234redwf4r84ri4ri5434r34r/\n",
    "ll\n",
    "cd _data\n",
    "vi index.html #вставляем текст, в итоге видим содержимое на сайте\n",
    "----------------------------------------------------------------------------\n",
    "#Named Volumes (САМОЕ РАСПРОСТРАНЕННОЕ)\n",
    "docker run --rm --name web01 -p 80:80 -v web_data:/usr/share/nginx/html -d nginx\n",
    "cd /var/lib/docker/volumes/web_data/_data\n",
    "#при остановке докера data останется\n",
    "----------------------------------------------------------------------------\n",
    "docker volumes create infos #создание volume'а\n",
    "docker volume ls #список volume'ов\n",
    "docker volume rm infos #удаление volume'а"
   ]
  },
  {
   "cell_type": "markdown",
   "id": "dfa771bd-8fae-4c70-a8d6-4418a1cc10d6",
   "metadata": {},
   "source": [
    "### **Сети**"
   ]
  },
  {
   "cell_type": "code",
   "execution_count": null,
   "id": "f0188893-e9e1-4bc8-8de4-04c9382820ff",
   "metadata": {},
   "outputs": [],
   "source": [
    "docker network ls #список сетей\n",
    "\n",
    "docker network create myNet01 #создание сети типа bridge\n",
    "docker network create --driver host myNethost #может быть единственная сеть типа host\n",
    "docker network create -d null myNethost #может быть единственная сеть типа null\n",
    "docker network create -d bridge --subnet 192.168.10.0/24 --gateway 192.168.10.1 myNet192 #создание сети по конкретному адресу\n",
    "\n",
    "docker network inspect myNet01 #сведения о сети\n",
    "docker inspect container1 #сведения о контейнере, узнать ip контейнера\n",
    "\n",
    "docker network rm myNet01 #удаление сети\n",
    "\n",
    "docker run --rm -it --name cont1 nicolaka/netshoot /bin/bash #запуск специального контейнера, имеющего инструменты для работы с сетью\n",
    "\n",
    "docker run --rm -it --name cont1 --net myNet01 nicolaka/netshoot /bin/bash #запуск контейнера в сети myNet01\n",
    "docker run --rm -it --name cont2 --net myNet01 nicolaka/netshoot /bin/bash #запуск второго контейнера в сети myNet01\n",
    "\n",
    "#контейнеры находятся в одной сети, мы можем получить пинг одного контейнера через другой\n",
    "#это можно сделать по ip или по имени\n",
    "ping 172.20.0.2\n",
    "ping cont1\n",
    "\n",
    "docker network connect myNet01 cont2 #подключить контейнер к сети\n",
    "docker network disconnect 4nfcji55902mcnfjft95dcnb5820rjf49501 cont2 #отключиться от сети по NetworkID, полученной с помощью docker inspect cont2"
   ]
  },
  {
   "cell_type": "markdown",
   "id": "d4c81694-0e0a-487c-92d8-e190754fc708",
   "metadata": {},
   "source": [
    "### **Создание собственных images**"
   ]
  },
  {
   "cell_type": "markdown",
   "id": "ff8c5a8b-e823-4143-9c4e-071964e7a544",
   "metadata": {},
   "source": [
    "#### **Пример 1: Ubuntu контейнер**"
   ]
  },
  {
   "cell_type": "code",
   "execution_count": null,
   "id": "ee99b240-c6ad-407b-a2cd-9df61a2c2766",
   "metadata": {},
   "outputs": [],
   "source": [
    "mkdir docker\n",
    "cd docker\n",
    "touch dockerfile\n",
    "vi dockerfile\n",
    "\n",
    "**#---------------------содержимое файла---------------------#**\n",
    "FROM ubuntu:22.04     #на чем будет базироваться образ\n",
    "\n",
    "LABEL autor=Ilya    #описание\n",
    "\n",
    "RUN apt-get update\n",
    "RUN apt-get install nginx -y #-y - автоматическое согласие на установку\n",
    "\n",
    "WORKDIR /var/www/html/ #рабочая директория\n",
    "\n",
    "ENV OWNER=Ilya #создание переменных, их видно при работе через exec после ввода команды env\n",
    "ENV TYPE=demo #к ним можно обращаться через $OWNER/$TYPE\n",
    "\n",
    "COPY files/index.html . #копирование файлов в рабочую директорию\n",
    "\n",
    "EXPOSE 80 #указание под каким портом работать с контейнером \n",
    "#ENTRYPOINT [\"echo\"]\n",
    "CMD [\"nginx\", \"-g\", \"daemon off;\"] #запуск nginx с параметрами\n",
    "\n",
    "#ENTRYPOINT - неизменяемая команда, а CMD - изменяемая\n",
    "**#---------------------содержимое файла---------------------#**\n",
    "cd ..\n",
    "mkdir files\n",
    "cd files\n",
    "vi index.html\n",
    "cd ..\n",
    "****\n",
    "docker build -t myimage:v01 #создание собственного образа\n",
    "docker images #ищем идентификатор\n",
    "docker tag 94uerv0452 mydocker:v01 #даём имя image'у\n",
    "docker run -d --rm --name mydocker -p 80:80 mydocker:v01 #создание контейнера на основе созданного образа\n",
    "docker image inspect mydocker:v01 #сведения об образе, тут же видны LABEL's"
   ]
  },
  {
   "cell_type": "markdown",
   "id": "35508ea5-94c6-4711-955e-6b7bf72e753f",
   "metadata": {},
   "source": [
    "#### **Пример 2: Apache контейнер**"
   ]
  },
  {
   "cell_type": "code",
   "execution_count": null,
   "id": "7de8ddb5-a787-44a6-983a-960b2dffa710",
   "metadata": {},
   "outputs": [],
   "source": [
    "mkdir apache\n",
    "cp dockerfile apache/ #копируем в новую папку докерфайл из прошлого п\n",
    "cd apache\n",
    "vi dockerfile\n",
    "\n",
    "**#---------------------содержимое файла---------------------#**\n",
    "FROM ubuntu:22.04     #на чем будет базироваться образ\n",
    "\n",
    "LABEL autor=Ilya    #описание\n",
    "\n",
    "RUN apt-get update\n",
    "RUN apt-get install apache2 -y #-y - автоматическое согласие на установку\n",
    "\n",
    "EXPOSE 80 #указание под каким портом работать с контейнером \n",
    "\n",
    "CMD [\"apache2ctlctl\", \"-D\", \"FOREGROUND\"]\n",
    "\n",
    "**#---------------------содержимое файла---------------------#**\n",
    "\n",
    "docker build -t myapache:v01\n",
    "docker run -d --rm --name mydocker -p 80:80 myapache:v01"
   ]
  },
  {
   "cell_type": "markdown",
   "id": "874c8ffb-7acf-46e2-8dc9-fd37f8543af2",
   "metadata": {},
   "source": [
    "#### **Пример 3: Python контейнер**"
   ]
  },
  {
   "cell_type": "code",
   "execution_count": null,
   "id": "487e8fd5-6d02-4c09-b13e-abd967ca5153",
   "metadata": {},
   "outputs": [],
   "source": [
    "mkdir python\n",
    "cd python\n",
    "touch sum.py\n",
    "vi sum.py\n",
    "\n",
    "**#---------------------содержимое файла---------------------#**\n",
    "num1 = int(input())\n",
    "num2 = int(input())\n",
    "\n",
    "sum = num1 + num2\n",
    "\n",
    "print('The sum of {num1} and {num2} is {sum}')\n",
    "**#---------------------содержимое файла---------------------#**\n",
    "\n",
    "touch dockerfile\n",
    "vi dockerfile\n",
    "\n",
    "**#---------------------содержимое файла---------------------#**\n",
    "FROM python:3\n",
    "WORKDIR /usr/src/app\n",
    "COPY sum.py ./\n",
    "CMD [\"python\", \"./sum.py\"]\n",
    "**#---------------------содержимое файла---------------------#**\n",
    "\n",
    "docker build -t mypython:v01\n",
    "docker run -it --rm mypython:v01"
   ]
  },
  {
   "cell_type": "markdown",
   "id": "c04a6f6d-d65e-4e34-8e32-050fec8dac72",
   "metadata": {},
   "source": [
    "### **Docker Compose**"
   ]
  },
  {
   "cell_type": "markdown",
   "id": "b3fdd08e-626b-4749-9a68-4db95ee2816c",
   "metadata": {},
   "source": [
    "Docker Compose используется для управления одним или несколькими контейнерами, содержит инструкции по запуску контейнеров, упрощает автоматизацию запуска контейнеров. Он описывается в YAML файле (docker-compose.yml)."
   ]
  },
  {
   "cell_type": "markdown",
   "id": "bee63125-0d89-4889-8f56-014b1fde3b83",
   "metadata": {},
   "source": [
    "#### **Пример 1:**"
   ]
  },
  {
   "cell_type": "code",
   "execution_count": null,
   "id": "aff8f045-00a6-40fd-97a7-1ecaed0bfea6",
   "metadata": {},
   "outputs": [],
   "source": [
    "ocker compose --version\n",
    "\n",
    "cd /opt/\n",
    "mkdir compose\n",
    "cd compose\n",
    "touch docker-compose.yml\n",
    "vi docker-compose.yml\n",
    "\n",
    "**#---------------------содержимое файла---------------------#**\n",
    "version: '3.5'\n",
    "services:\n",
    " web-server:\n",
    "  image: nginx:stable\n",
    "  container_name: mynginx\n",
    "  volumes:\n",
    "  - '/opt/web/html:/var/www/html' #выделенные директории создаются автоматически\n",
    "  - '/opt/web/pics:/var/www/pictures'\n",
    "  - 'nginx-config:/var/www/config' #именные волюмы описывают ниже\n",
    " environment:\n",
    "  - 'NGINX_HOST=web.romnero.de'\n",
    "  - 'NGINX_PORT=80'\n",
    " ports:\n",
    "  - '80:80'\n",
    "  - '433:433'\n",
    " restart: unless-stopped\n",
    "volumes: #тут описываются именные волюмы\n",
    " nginx-config\n",
    "\n",
    "networks:\n",
    " default:\n",
    "  driver: bridge\n",
    "  name: webnet\n",
    "**#---------------------содержимое файла---------------------#**\n",
    "\n",
    "docker compose up -d #запуск\n",
    "docker compose logs -f #увидить логи\n",
    "docker compose stop #остановка"
   ]
  },
  {
   "cell_type": "markdown",
   "id": "e0e3926f-98c8-4060-b58d-ef53a9633f6f",
   "metadata": {},
   "source": [
    "#### **Пример 2:**"
   ]
  },
  {
   "cell_type": "code",
   "execution_count": null,
   "id": "74abd87b-0ea9-4d5b-81b1-1e1c1f0fe620",
   "metadata": {},
   "outputs": [],
   "source": [
    "**#---------------------содержимое файла---------------------#**\n",
    "version: '3.6'\n",
    "services:\n",
    " php-app:\n",
    "  image: php:apache\n",
    "  container_name: app\n",
    "  ports:\n",
    "   - '80:80'\n",
    "  restart: unless-stopped\n",
    "  repends_on:\n",
    "   - app-db\n",
    "   - app-redis\n",
    "  networks:\n",
    "   - internet\n",
    "   - localnet\n",
    "   \n",
    "app-db:\n",
    " image: postgres\n",
    " container_name: app-postgres\n",
    " restart: unless-stopped\n",
    " environment:\n",
    "  - 'POSTGRES_PASSWORD=mysecretpassword'\n",
    " networks: localnet\n",
    " \n",
    "app-redis:\n",
    " image: redis\n",
    " container_name: app-redis\n",
    " restart: unless-stopped\n",
    " networks: \n",
    "  - localnet\n",
    " \n",
    " networks:\n",
    "  internet:\n",
    "   name: internet\n",
    "   driver: bridge\n",
    "  localnet:\n",
    "   name: localnet\n",
    "   driver: bridge \n",
    "**#---------------------содержимое файла---------------------#**\n",
    "   \n",
    "\n",
    "docker compose up -d #запуск"
   ]
  }
 ],
 "metadata": {
  "kernelspec": {
   "display_name": "Python 3 (ipykernel)",
   "language": "python",
   "name": "python3"
  },
  "language_info": {
   "codemirror_mode": {
    "name": "ipython",
    "version": 3
   },
   "file_extension": ".py",
   "mimetype": "text/x-python",
   "name": "python",
   "nbconvert_exporter": "python",
   "pygments_lexer": "ipython3",
   "version": "3.12.4"
  }
 },
 "nbformat": 4,
 "nbformat_minor": 5
}
