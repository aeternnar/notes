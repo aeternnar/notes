{
 "cells": [
  {
   "cell_type": "code",
   "execution_count": null,
   "id": "94879767-1eff-421e-82c8-69a112c6a0d9",
   "metadata": {},
   "outputs": [],
   "source": [
    "python -m pip install opencv-contrib-python #внутрь конда окружения"
   ]
  },
  {
   "cell_type": "code",
   "execution_count": 1,
   "id": "a8749f07-7e48-4a11-853d-c649996ade83",
   "metadata": {},
   "outputs": [],
   "source": [
    "import cv2"
   ]
  },
  {
   "cell_type": "code",
   "execution_count": null,
   "id": "c64d6330-3b19-41ef-888d-f72da8737c3f",
   "metadata": {},
   "outputs": [],
   "source": [
    "image = cv2.imread('/home/aeternnar/Pictures/ML/RGB-image.png')\n",
    "cv2.imshow('Image', image)\n",
    "\n",
    "cv2.waitKey(0) #ожидает нажатия любой клавиши\n",
    "cv2.destroyAllWindows() #закроет окно перед завершением скрипта"
   ]
  },
  {
   "cell_type": "code",
   "execution_count": null,
   "id": "a9900c7e-0f07-4ea9-b024-7298c32a66fe",
   "metadata": {},
   "outputs": [],
   "source": [
    "image = cv2.imread('/home/aeternnar/Pictures/ML/RGB-image.png')\n",
    "image2show = cv2.cvtColor(image, cv2.COLOR_BGR2RGB) #конвертация BGR -> RGB\n",
    "\n",
    "plt.imshow(image2show)"
   ]
  },
  {
   "cell_type": "code",
   "execution_count": null,
   "id": "c12dce92-d29c-4d8a-b5f6-ea5510baaaca",
   "metadata": {},
   "outputs": [],
   "source": [
    "path = '/home/aeternnar/Pictures/ML/'\n",
    "cv2.imwrite(path + 'new_img.jpg', image)"
   ]
  },
  {
   "cell_type": "markdown",
   "id": "e48f1fb5-2cab-4447-bcfb-261555a2b2d6",
   "metadata": {},
   "source": [
    "## **Обработка кадров видео**"
   ]
  },
  {
   "cell_type": "code",
   "execution_count": null,
   "id": "2c10adbb-0f9e-436c-ab39-69bdab40cd9c",
   "metadata": {},
   "outputs": [],
   "source": [
    "cap = cv2.VideoCapture(path + 'random_pixel_set2.mp4')"
   ]
  },
  {
   "cell_type": "code",
   "execution_count": null,
   "id": "d0fd9bee-5dea-4f84-9fe2-f4cfdbaca0a0",
   "metadata": {},
   "outputs": [],
   "source": [
    "while cap.isOpened():\n",
    "    read_ok, frame = cap.read()\n",
    "\n",
    "    if not read_ok:\n",
    "        break\n",
    "\n",
    "    cv2.imshow('Frame', frame)\n",
    "    \n",
    "    if cv2.waitKey(500) == 27:\n",
    "        break\n",
    "    \n",
    "cap.release()\n",
    "cv2.destroyAllWindows()"
   ]
  },
  {
   "cell_type": "markdown",
   "id": "12b3ead9-34a3-48e9-a058-5d19b6220965",
   "metadata": {},
   "source": [
    "## **Создание изображений**"
   ]
  },
  {
   "cell_type": "code",
   "execution_count": null,
   "id": "b1768e55-a7c4-4c12-8645-84875d37826a",
   "metadata": {},
   "outputs": [],
   "source": [
    "image[:] = [255, 0, 0] #присваивает всем пикселям один и тот же цвет"
   ]
  },
  {
   "cell_type": "code",
   "execution_count": null,
   "id": "55dfd266-1134-4f43-ab93-b50d15565204",
   "metadata": {},
   "outputs": [],
   "source": [
    "# Создаем горизонтальный градиент от черного к белому\n",
    "for x in range(width):\n",
    "    color = int((x / width) * 255)\n",
    "    image[:, x] = [color, color, color]"
   ]
  },
  {
   "cell_type": "code",
   "execution_count": null,
   "id": "efdf312c-47e9-4bd2-9f9b-9f16b19667a2",
   "metadata": {},
   "outputs": [],
   "source": [
    "# Сохраняем изображение\n",
    "cv2.imwrite(\"image.png\", image)"
   ]
  },
  {
   "cell_type": "markdown",
   "id": "438fac45-dde7-463f-9e18-db482489f757",
   "metadata": {},
   "source": [
    "## **Создание фигур**"
   ]
  },
  {
   "cell_type": "code",
   "execution_count": null,
   "id": "307d0460-03a5-4f07-9c27-c9215f539eea",
   "metadata": {},
   "outputs": [],
   "source": [
    "# Рисование линии\n",
    "start_point = (50, 50)\n",
    "end_point = (200, 200)\n",
    "color = (255, 0, 0)  # Синий\n",
    "thickness = 2  # Толщина линии\n",
    "\n",
    "cv2.line(image, start_point, end_point, color, thickness)"
   ]
  },
  {
   "cell_type": "code",
   "execution_count": null,
   "id": "05dd04b2-49dd-4e92-aac1-ad731de01587",
   "metadata": {},
   "outputs": [],
   "source": [
    "# Рисование прямоугольника\n",
    "start_point = (50, 50)\n",
    "end_point = (200, 200)\n",
    "color = (0, 255, 255)  # Желтый\n",
    "thickness = 2  # Толщина линии\n",
    "\n",
    "#Для создания заполненного прямоугольника установить толщину равной -1\n",
    "cv2.rectangle(image, start_point, end_point, color, thickness)"
   ]
  },
  {
   "cell_type": "code",
   "execution_count": null,
   "id": "56146931-89bf-4d23-a54c-6bc3e29c1fe1",
   "metadata": {},
   "outputs": [],
   "source": [
    "# Рисование круга\n",
    "center = (150, 150)\n",
    "radius = 50\n",
    "color = (255, 0, 0)  # Синий\n",
    "thickness = 2  # Толщина линии\n",
    "\n",
    "cv2.circle(image, center, radius, color, thickness)"
   ]
  },
  {
   "cell_type": "code",
   "execution_count": null,
   "id": "2fd2b797-5b88-4c5d-afad-0d6476f3472f",
   "metadata": {},
   "outputs": [],
   "source": [
    "# Вывод текста\n",
    "text = \"Привет, друг!\"\n",
    "org = (50, 50)\n",
    "font = cv2.FONT_HERSHEY_COMPLEX\n",
    "font_scale = 1\n",
    "color = (255, 255, 255)  # Белый\n",
    "thickness = 2\n",
    "\n",
    "cv2.putText(image, text, org, font, font_scale, color, thickness, cv2.LINE_AA)"
   ]
  },
  {
   "cell_type": "markdown",
   "id": "66730a4e-9757-4c78-82ec-3d52bdb90f2f",
   "metadata": {},
   "source": [
    "## **Создание видео, GIF**"
   ]
  },
  {
   "cell_type": "code",
   "execution_count": null,
   "id": "68759e56-25fb-4298-acb0-d13bdf520c33",
   "metadata": {},
   "outputs": [],
   "source": [
    "width, height = 600, 600\n",
    "num_frames = 300\n",
    "\n",
    "\n",
    "filename = 'moving_circle.mp4'\n",
    "\n",
    "# Создаем объект записи видео\n",
    "fourcc = cv2.VideoWriter_fourcc(*'mp4v')\n",
    "fps = 20\n",
    "out = cv2.VideoWriter(filename, fourcc, fps, (width, height))\n",
    "\n",
    "\n",
    "for i in range(num_frames):\n",
    "    frame = np.zeros((height, width, 3), dtype=np.uint8)\n",
    "    x_position = int(600 * (i / num_frames))\n",
    "    y_position = 300 \n",
    "    cv2.circle(frame, (x_position, y_position), 30, (0, 255, 0), -1)\n",
    "    out.write(frame)\n",
    "out.release()\n",
    "\n",
    "\n",
    "cap = cv2.VideoCapture(filename)\n",
    "\n",
    "while cap.isOpened():\n",
    "    read_ok, frame = cap.read()\n",
    "    if not read_ok:\n",
    "        break\n",
    "    cv2.imshow('Moving circle', frame)\n",
    "    if cv2.waitKey(50) == 27:\n",
    "        break\n",
    "\n",
    "cap.release()\n",
    "cv2.destroyAllWindows()"
   ]
  },
  {
   "cell_type": "code",
   "execution_count": null,
   "id": "5fa451c7-44d6-463d-86bd-10b40b636923",
   "metadata": {},
   "outputs": [],
   "source": [
    "from PIL import Image\n",
    "\n",
    "filename = 'moving_circle.mp4'\n",
    "# Чтение видео и создание GIF\n",
    "cap = cv2.VideoCapture(filename)\n",
    "frames = []\n",
    "\n",
    "while cap.isOpened():\n",
    "    read_ok, frame = cap.read()\n",
    "    if not read_ok:\n",
    "        break\n",
    "    frame_rgb = cv2.cvtColor(frame, cv2.COLOR_BGR2RGB)\n",
    "    img = Image.fromarray(frame_rgb)\n",
    "    frames.append(img)\n",
    "\n",
    "cap.release()\n",
    "\n",
    "# Сохранение в GIF\n",
    "frames[0].save('moving_circle.gif', save_all=True, append_images=frames[1:], duration=50, loop=0)"
   ]
  },
  {
   "cell_type": "markdown",
   "id": "96d4a5ad-8227-4876-a90c-376b52624471",
   "metadata": {},
   "source": [
    "### **Сохранение кадров видео в отдельные файлы**"
   ]
  },
  {
   "cell_type": "code",
   "execution_count": null,
   "id": "2abeff7d-1642-412f-a6dc-e561919e2157",
   "metadata": {},
   "outputs": [],
   "source": [
    "import os\n",
    "\n",
    "# Создаем директорию для сохранения изображений, если ее нет\n",
    "output_dir = 'images'\n",
    "if not os.path.exists(output_dir):\n",
    "    os.makedirs(output_dir)\n",
    "\n",
    "# Открываем видеофайл\n",
    "video_path = 'video.mp4'\n",
    "cap = cv2.VideoCapture(video_path)\n",
    "\n",
    "frame_count = 0\n",
    "\n",
    "while cap.isOpened():\n",
    "    read_ok, frame = cap.read()\n",
    "    if not read_ok:\n",
    "        break\n",
    "    \n",
    "    # Формируем имя файла\n",
    "    frame_filename = os.path.join(output_dir, f'frame_{frame_count:06d}.png')\n",
    "    \n",
    "    # Сохраняем кадр в файл\n",
    "    cv2.imwrite(frame_filename, frame)\n",
    "    \n",
    "    frame_count += 1\n",
    "\n",
    "cap.release()\n",
    "print(f\"Сохранено {frame_count} кадров в директорию {output_dir}\")"
   ]
  },
  {
   "cell_type": "markdown",
   "id": "9cd59fd8-05c7-4456-8a7d-8dffd4418dd5",
   "metadata": {},
   "source": [
    "### **Создание видео из набора изображений**"
   ]
  },
  {
   "cell_type": "code",
   "execution_count": null,
   "id": "743e2839-4797-4699-872b-d196a2be7360",
   "metadata": {},
   "outputs": [],
   "source": [
    "# Параметры видео\n",
    "frame_rate = 20\n",
    "output_video_path = 'output_video.mp4'\n",
    "\n",
    "# Директория с изображениями\n",
    "input_dir = 'images'\n",
    "\n",
    "# Получаем список файлов изображений\n",
    "image_files = sorted([f for f in os.listdir(input_dir) if f.endswith('.png')])\n",
    "\n",
    "# Проверяем, есть ли изображения\n",
    "if not image_files:\n",
    "    raise ValueError(\"Нет изображений в директории\")\n",
    "\n",
    "# Читаем первое изображение для получения размеров кадра\n",
    "first_frame = cv2.imread(os.path.join(input_dir, image_files[0]))\n",
    "height, width, layers = first_frame.shape\n",
    "\n",
    "# Создаем объект записи видео\n",
    "fourcc = cv2.VideoWriter_fourcc(*'mp4v')\n",
    "out = cv2.VideoWriter(output_video_path, fourcc, frame_rate, (width, height))\n",
    "\n",
    "# Записываем каждое изображение в видеофайл\n",
    "for image_file in image_files:\n",
    "    frame = cv2.imread(os.path.join(input_dir, image_file))\n",
    "    out.write(frame)\n",
    "\n",
    "out.release()\n",
    "print(f\"Видео сохранено в {output_video_path}\")"
   ]
  },
  {
   "cell_type": "markdown",
   "id": "3b359591-b327-4282-9a3a-378a69c90c5c",
   "metadata": {},
   "source": [
    "### **Интерактивная работа с мышью**"
   ]
  },
  {
   "cell_type": "code",
   "execution_count": null,
   "id": "d958fa9c-bd2a-4ae8-b5a8-e97f5a525924",
   "metadata": {},
   "outputs": [],
   "source": [
    "import cv2\n",
    "\n",
    "# Функция обработки событий мыши\n",
    "def mouse_callback(event, x, y, flags, param):\n",
    "    if event == cv2.EVENT_LBUTTONDOWN:\n",
    "        print(f\"Left button down at ({x}, {y})\")\n",
    "    elif event == cv2.EVENT_LBUTTONUP:\n",
    "        print(f\"Left button up at ({x}, {y})\")\n",
    "    elif event == cv2.EVENT_RBUTTONDOWN:\n",
    "        print(f\"Right button down at ({x}, {y})\")\n",
    "    elif event == cv2.EVENT_RBUTTONUP:\n",
    "        print(f\"Right button up at ({x}, {y})\")\n",
    "    elif event == cv2.EVENT_MBUTTONDOWN:\n",
    "        print(f\"Middle button down at ({x}, {y})\")\n",
    "    elif event == cv2.EVENT_MBUTTONUP:\n",
    "        print(f\"Middle button up at ({x}, {y})\")\n",
    "    elif event == cv2.EVENT_MOUSEMOVE:\n",
    "        print(f\"Mouse move at ({x}, {y})\")\n",
    "    elif event == cv2.EVENT_MOUSEWHEEL:\n",
    "        print(f\"Mouse wheel at ({x}, {y}) with flags {flags}\")\n",
    "\n",
    "# Загрузка изображения\n",
    "img = cv2.imread('example.jpg')\n",
    "cv2.imshow('image', img)\n",
    "\n",
    "# Установка функции обратного вызова\n",
    "cv2.setMouseCallback('image', mouse_callback)\n",
    "\n",
    "cv2.waitKey(0)\n",
    "cv2.destroyAllWindows()"
   ]
  },
  {
   "cell_type": "markdown",
   "id": "6ada5230-155e-41d8-827d-e03e53278343",
   "metadata": {},
   "source": [
    "Этот скрипт будет очень полезен для задачи разметки данных, когда необходимо выделить и сохранить определенные области изображения для дальнейшего анализа или обучения моделей нейросетей:"
   ]
  },
  {
   "cell_type": "code",
   "execution_count": null,
   "id": "2ee98596-128f-4203-b592-dadabe61484b",
   "metadata": {},
   "outputs": [],
   "source": [
    "import cv2\n",
    "import numpy as np\n",
    "import os\n",
    "\n",
    "# Глобальные переменные для хранения координат прямоугольников и состояния рисования\n",
    "rectangles = []\n",
    "drawing = False\n",
    "current_rect = None\n",
    "cursor_position = (0, 0)\n",
    "\n",
    "def mouse_callback(event, x, y, flags, param):\n",
    "    global current_rect, drawing, cursor_position\n",
    "    cursor_position = (x, y)\n",
    "    if event == cv2.EVENT_LBUTTONDOWN:\n",
    "        # Начало рисования нового прямоугольника\n",
    "        current_rect = [(x, y)]\n",
    "        drawing = True\n",
    "    elif event == cv2.EVENT_MOUSEMOVE and drawing:\n",
    "        # Обновление конечной точки текущего прямоугольника при движении мыши\n",
    "        if current_rect:\n",
    "            if len(current_rect) == 1:\n",
    "                current_rect.append((x, y))\n",
    "            else:\n",
    "                current_rect[1] = (x, y)\n",
    "    elif event == cv2.EVENT_LBUTTONUP:\n",
    "        # Завершение рисования текущего прямоугольника\n",
    "        if current_rect:\n",
    "            current_rect.append((x, y))\n",
    "            rectangles.append(tuple(current_rect))\n",
    "            current_rect = None\n",
    "            drawing = False\n",
    "    elif event == cv2.EVENT_RBUTTONDOWN:\n",
    "        # Удаление всех прямоугольников по нажатию правой кнопки мыши\n",
    "        rectangles.clear()\n",
    "\n",
    "# Загрузка изображения\n",
    "image_path = 'input_image.png'\n",
    "img = cv2.imread(image_path)\n",
    "img_original = img.copy()  # Сохраняем оригинал изображения для обрезки\n",
    "cv2.imshow('image', img)\n",
    "\n",
    "# Установка функции обратного вызова\n",
    "cv2.setMouseCallback('image', mouse_callback)\n",
    "\n",
    "while True:\n",
    "    # Создание копии изображения для обновления\n",
    "    img_copy = img.copy()\n",
    "    \n",
    "    # Вывод координат курсора на изображение\n",
    "    cursor_text = f\"Положение курсора: {cursor_position}\"\n",
    "    cv2.putText(img_copy, cursor_text, (10, 30), cv2.FONT_HERSHEY_COMPLEX, 0.9, (255, 255, 255), 2, cv2.LINE_AA)\n",
    "    \n",
    "    # Рисование всех прямоугольников\n",
    "    for rect in rectangles:\n",
    "        cv2.rectangle(img_copy, rect[0], rect[1], (0, 255, 0), 2)\n",
    "        rect_text = f\"Точка 1: {rect[0]}, Точка 2: {rect[1]}\"\n",
    "        cv2.putText(img_copy, rect_text, (rect[0][0], rect[0][1] - 10), cv2.FONT_HERSHEY_COMPLEX, 0.5, (0, 255, 0), 1, cv2.LINE_AA)\n",
    "    \n",
    "    # Рисование текущего прямоугольника\n",
    "    if current_rect and len(current_rect) == 2:\n",
    "        cv2.rectangle(img_copy, current_rect[0], current_rect[1], (0, 255, 0), 2)\n",
    "        rect_text = f\"Точка 1: {current_rect[0]}, Точка 2: {current_rect[1]}\"\n",
    "        cv2.putText(img_copy, rect_text, (current_rect[0][0], current_rect[0][1] - 10), cv2.FONT_HERSHEY_COMPLEX, 0.5, (0, 255, 0), 1, cv2.LINE_AA)\n",
    "        \n",
    "    # Отображение изображения с прямоугольниками и текстом\n",
    "    cv2.imshow('image', img_copy)\n",
    "    \n",
    "    key = cv2.waitKey(20)\n",
    "    if key == 27:  # Выход из цикла при нажатии клавиши 'Esc'\n",
    "        break\n",
    "    elif key == 32:  # Сохранение всех обрезанных изображений при нажатии пробела\n",
    "        base_name = os.path.splitext(os.path.basename(image_path))[0]\n",
    "        for i, rect in enumerate(rectangles):\n",
    "            x1, y1 = rect[0]\n",
    "            x2, y2 = rect[1]\n",
    "            x_min, x_max = min(x1, x2), max(x1, x2)\n",
    "            y_min, y_max = min(y1, y2), max(y1, y2)\n",
    "            cropped_image = img_original[y_min:y_max, x_min:x_max]\n",
    "            save_name = f\"{base_name}_crop{i+1:03d}.png\"\n",
    "            cv2.imwrite(save_name, cropped_image)\n",
    "            print(f\"Обрезанное изображение сохранено как '{save_name}'\")\n",
    "\n",
    "cv2.destroyAllWindows()"
   ]
  },
  {
   "cell_type": "markdown",
   "id": "da8ef309-e876-4d08-96a8-cd8a31069310",
   "metadata": {},
   "source": [
    "## **Поиск шаблона**"
   ]
  },
  {
   "cell_type": "markdown",
   "id": "31a6607f-5521-45ac-9b3a-12d733b82f13",
   "metadata": {},
   "source": [
    "Функция **cv2.matchTemplate** в OpenCV используется для выполнения задачи поиска шаблона. Эта функция принимает изображение и шаблон и возвращает карту корреляции, которая показывает, насколько хорошо каждый участок изображения соответствует шаблону."
   ]
  },
  {
   "cell_type": "code",
   "execution_count": null,
   "id": "5e0d7ae1-64dd-4aa3-9a2b-d23cce5d988b",
   "metadata": {},
   "outputs": [],
   "source": [
    "result = cv2.matchTemplate(image, templ, method)\n",
    "\n",
    "#method: cv2.TM_SQDIFF, cv2.TM_SQDIFF_NORMED, cv2.TM_CCORR, \n",
    "#        cv2.TM_CCORR_NORMED, cv2.TM_CCOEFF, cv2.TM_CCOEFF_NORMED"
   ]
  },
  {
   "attachments": {
    "52a292dc-7e7b-4040-8eb7-d662933bba9d.png": {
     "image/png": "[encoded data removed]"
    }
   },
   "cell_type": "markdown",
   "id": "91316f8b-fe52-4483-ae6f-49df5171c362",
   "metadata": {},
   "source": [
    "![image.png](attachment:52a292dc-7e7b-4040-8eb7-d662933bba9d.png)"
   ]
  },
  {
   "cell_type": "markdown",
   "id": "4f625ed2-25e9-4f03-939b-6cd5ecc3ed2a",
   "metadata": {},
   "source": [
    "После того как мы получили карту корреляции **result** с помощью функции **cv2.matchTemplate**, нам нужно определить, где на изображении находится наилучшее совпадение с шаблоном. Для этого мы используем функцию **cv2.minMaxLoc**."
   ]
  },
  {
   "cell_type": "code",
   "execution_count": null,
   "id": "0d6da4ea-486f-4576-bb91-cfead9f8af37",
   "metadata": {},
   "outputs": [],
   "source": [
    "min_val, max_val, min_loc, max_loc = cv2.minMaxLoc(result)"
   ]
  },
  {
   "cell_type": "markdown",
   "id": "31f9b94c-cf78-44f4-b9a2-d8a5e8aa9a3c",
   "metadata": {},
   "source": [
    "В зависимости от выбранного метода для **cv2.matchTemplate**, наилучшее совпадение будет либо в **min_loc**, либо в **max_loc**."
   ]
  },
  {
   "cell_type": "code",
   "execution_count": null,
   "id": "dbc12285-9c2e-4d7a-a2e9-a5d963f1228d",
   "metadata": {},
   "outputs": [],
   "source": [
    "start_x, start_y = max_loc"
   ]
  },
  {
   "cell_type": "markdown",
   "id": "87fa861d-5f2d-4229-8ed5-93a30ddc1c7b",
   "metadata": {},
   "source": [
    "## **Grayscale**"
   ]
  },
  {
   "cell_type": "markdown",
   "id": "2b32815d-8bc6-4449-bb3e-e8d88788454f",
   "metadata": {},
   "source": [
    "Преобразование обычно осуществляется путем взвешенного суммирования каналов с коэффициентами, отражающими человеческое восприятие яркости разных цветов. Наиболее распространенная формула:"
   ]
  },
  {
   "cell_type": "markdown",
   "id": "ba4f2895-e3c3-4bb1-b019-946776984dd4",
   "metadata": {},
   "source": [
    "$$\n",
    "Y = 0.299 \\cdot R + 0.587 \\cdot G + 0.114 \\cdot B\n",
    "$$"
   ]
  },
  {
   "cell_type": "markdown",
   "id": "dc05a5fc-6dc3-4bcd-a271-247785cb2d97",
   "metadata": {},
   "source": [
    "Эти коэффициенты подобраны таким образом, чтобы результат выглядел для человеческого глаза максимально естественно с точки зрения яркостного восприятия."
   ]
  },
  {
   "cell_type": "code",
   "execution_count": null,
   "id": "ce5380c6-06a6-4669-a9c0-90ad850db50d",
   "metadata": {},
   "outputs": [],
   "source": [
    "image_gray = cv2.cvtColor(image_bgr, cv2.COLOR_BGR2GRAY)"
   ]
  },
  {
   "cell_type": "markdown",
   "id": "f5f49daa-8990-406c-b4d3-301e351ab187",
   "metadata": {},
   "source": [
    "**Однако**, grayscale-изображение можно представить и в виде трехмерного массива, если вам это нужно для унификации с другими операциями."
   ]
  },
  {
   "cell_type": "code",
   "execution_count": null,
   "id": "aafdcf8b-59ae-4def-a819-8deb795d3c44",
   "metadata": {},
   "outputs": [],
   "source": [
    "gray = cv2.cvtColor(img, cv2.COLOR_BGR2GRAY)\n",
    "gray_3ch = np.stack((gray, gray, gray), axis=2) \n",
    "\n",
    "# ИЛИ:\n",
    "gray_3ch = cv2.cvtColor(gray, cv2.COLOR_GRAY2BGR)"
   ]
  },
  {
   "cell_type": "markdown",
   "id": "945a6a6c-560d-47be-8d40-f8c91a782ca8",
   "metadata": {},
   "source": [
    "При чтении файлов в OpenCV можно сразу указывать необходимый формат:"
   ]
  },
  {
   "cell_type": "code",
   "execution_count": null,
   "id": "943d1abd-ff81-44e0-acc2-71d0f14fe3fe",
   "metadata": {},
   "outputs": [],
   "source": [
    "cv2.imread('path.jpg', cv2.IMREAD_GRAYSCALE)\n",
    "cv2.imread('path.jpg', cv2.IMREAD_COLOR)"
   ]
  }
 ],
 "metadata": {
  "kernelspec": {
   "display_name": "Python (myenv)",
   "language": "python",
   "name": "myenv"
  },
  "language_info": {
   "codemirror_mode": {
    "name": "ipython",
    "version": 3
   },
   "file_extension": ".py",
   "mimetype": "text/x-python",
   "name": "python",
   "nbconvert_exporter": "python",
   "pygments_lexer": "ipython3",
   "version": "3.12.7"
  }
 },
 "nbformat": 4,
 "nbformat_minor": 5
}
