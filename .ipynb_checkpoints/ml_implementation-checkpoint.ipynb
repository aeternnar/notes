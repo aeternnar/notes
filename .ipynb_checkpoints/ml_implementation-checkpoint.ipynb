{
 "cells": [
  {
   "cell_type": "markdown",
   "id": "5b4a3b1c-73a8-4667-a4ea-557af35ce2b2",
   "metadata": {},
   "source": [
    "## **Linear Regression**"
   ]
  },
  {
   "cell_type": "code",
   "execution_count": 23,
   "id": "fc2ec3d5-f0e2-4457-b0a8-02d2a3acb220",
   "metadata": {},
   "outputs": [],
   "source": [
    "import numpy as np\n",
    "import pandas as pd\n",
    "\n",
    "class MyLineReg:\n",
    "    def __init__(self, n_iter, learning_rate, weights=None):\n",
    "        self.n_iter = n_iter\n",
    "        self.learning_rate = learning_rate\n",
    "        self.weights = weights\n",
    "\n",
    "    def __str__(self):\n",
    "        return f\"MyLineReg class: n_iter={self.n_iter}, learning_rate={self.learning_rate}\"\n",
    "\n",
    "    def fit(self, X_train, y_train, verbose=False):\n",
    "        number_of_observations = len(y_train)\n",
    "        number_of_features = X_train.shape[1]\n",
    "        \n",
    "        X_train = np.hstack([np.ones(number_of_observations).reshape(-1, 1), X_train.values])\n",
    "        self.weights = np.ones(number_of_features + 1)\n",
    "        \n",
    "        y_pred = X_train @ self.weights\n",
    "        MSE = ((y_train - y_pred) ** 2).mean()\n",
    "        \n",
    "        if verbose:\n",
    "            print(f\"start | loss: {MSE}\")\n",
    "\n",
    "        for i in range(self.n_iter):\n",
    "            y_pred = X_train @ self.weights\n",
    "            MSE = ((y_train - y_pred) ** 2).mean()\n",
    "            gradient = 2 / number_of_observations * X_train.T @ (y_pred - y_train) \n",
    "            self.weights -= self.learning_rate * gradient\n",
    "            \n",
    "            if verbose and i % verbose == 0:\n",
    "                print(f\" {i} | loss: {MSE}\")\n",
    "                \n",
    "    def get_coef(self):\n",
    "        return self.weights[1:]"
   ]
  },
  {
   "cell_type": "code",
   "execution_count": null,
   "id": "47693687-8901-4927-bf61-8c506f8cfbdb",
   "metadata": {},
   "outputs": [],
   "source": []
  }
 ],
 "metadata": {
  "kernelspec": {
   "display_name": "Python 3 (ipykernel)",
   "language": "python",
   "name": "python3"
  },
  "language_info": {
   "codemirror_mode": {
    "name": "ipython",
    "version": 3
   },
   "file_extension": ".py",
   "mimetype": "text/x-python",
   "name": "python",
   "nbconvert_exporter": "python",
   "pygments_lexer": "ipython3",
   "version": "3.12.7"
  }
 },
 "nbformat": 4,
 "nbformat_minor": 5
}
