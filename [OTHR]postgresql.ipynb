{
 "cells": [
  {
   "cell_type": "markdown",
   "id": "58afc51d-5991-4dac-b96a-ab9930508b8e",
   "metadata": {},
   "source": [
    "# **PostgreSQL**"
   ]
  },
  {
   "cell_type": "markdown",
   "id": "4fc079bb-4f6f-40a2-bc95-85a21dae719b",
   "metadata": {},
   "source": [
    "psql -U aeternnar -d postgres #войти в оболочку postgres\n",
    "\\\\q #выход из консоли postgres \n",
    "\n",
    "\\\\l #увидеть список всех БД\n",
    "\\\\d #увидеть список существующих таблиц и объектов-последователей\n",
    "\\\\dt #увидить список существующих таблиц\n",
    "\\\\du #увидить список существующих пользователей\n",
    " \n",
    " \n",
    "CREATE TABLE playground (\n",
    "    equip_id serial PRIMARY KEY,          \n",
    "    type varchar (50) NOT NULL,           #создание таблицы\n",
    "    color varchar (25) NOT NULL,          \n",
    "    location varchar(25) check (location in ('north', 'south', 'west', 'east', 'northeast', 'southeast', 'southwest', 'northwest')),\n",
    "    install_date date\n",
    ");\n",
    "\n",
    "INSERT INTO playground (type, color, location, install_date) VALUES ('slide', 'blue', 'south', '2014-04-28'); #внесение данных\n",
    "\n",
    "SELECT * FROM table1; #просмотр таблицы\n",
    "\n",
    "DELETE FROM playground WHERE type = 'slide'; #удаление записи\n",
    "\n",
    "ALTER TABLE playground ADD last_maint date; #добавление столбца\n",
    "\n",
    "ALTER TABLE playground DROP last_maint; #удаление столбца\n",
    "\n",
    "UPDATE playground SET color = 'red' WHERE type = 'swing'; #меняем цвет в тех строках с соответствующим типом\n",
    "\n",
    "DROP TABLE table_name; #удалить таблицу\n",
    "\n",
    "TRUNCATE TABLE table_name; #очистить таблицу от записей\n",
    "\n",
    "EXTRACT(YEAR FROM TIMESTAMP '2020-05-14 15:45:40') AS year #извлечь год из даты\n",
    "\n",
    "----------------------------------------------------------------------------------\n",
    "GROUP BY \n",
    "    u.name             #группировка по имени и сортировка после агрегации\n",
    "HAVING                  \n",
    "    SUM(t.amount) > 10000\n",
    "----------------------------------------------------------------------------------  \n",
    "COUNT(DISTINCT product) AS num_sold       #подсчитать различные продукты \n",
    "----------------------------------------------------------------------------------  \n",
    "ARRAY_AGG(product ORDER BY product) AS products  #создать массив продуктов \n",
    "STRING_AGG(product, ', ') AS products  #объединить продукты в строку с разделителем"
   ]
  }
 ],
 "metadata": {
  "kernelspec": {
   "display_name": "Python 3 (ipykernel)",
   "language": "python",
   "name": "python3"
  },
  "language_info": {
   "codemirror_mode": {
    "name": "ipython",
    "version": 3
   },
   "file_extension": ".py",
   "mimetype": "text/x-python",
   "name": "python",
   "nbconvert_exporter": "python",
   "pygments_lexer": "ipython3",
   "version": "3.12.7"
  }
 },
 "nbformat": 4,
 "nbformat_minor": 5
}
